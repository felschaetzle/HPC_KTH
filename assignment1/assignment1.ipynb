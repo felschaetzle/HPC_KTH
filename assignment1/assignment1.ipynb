{
 "cells": [
  {
   "cell_type": "markdown",
   "metadata": {},
   "source": [
    "# Assignment 1 DD2358\n",
    " Group 17: Felix Schätzle, Georgios Mitsos, Thorben Fetz\n",
    "\n",
    "## Task 1.1: Calculate the Clock Granularity of different Python Timers"
   ]
  },
  {
   "cell_type": "code",
   "execution_count": 1,
   "metadata": {
    "tags": []
   },
   "outputs": [],
   "source": [
    "import numpy as np\n",
    "import time\n",
    "import timeit\n",
    "import psutil"
   ]
  },
  {
   "cell_type": "code",
   "execution_count": 2,
   "metadata": {
    "tags": []
   },
   "outputs": [
    {
     "name": "stdout",
     "output_type": "stream",
     "text": [
      "Granularity for time.time(): 7.15E-07 seconds\n"
     ]
    }
   ],
   "source": [
    "#time.time()\n",
    "\n",
    "def checktick():\n",
    "    M = 200\n",
    "    timesfound = np.empty((M,))\n",
    "    for i in range(M):\n",
    "        t1 =  time.time() # get timestamp from timer\n",
    "        t2 = time.time() # get timestamp from timer\n",
    "        while (t2 - t1) < 1e-16: # if zero then we are below clock granularity, retake timing\n",
    "            t2 = time.time() # get timestamp from timer\n",
    "        t1 = t2 # this is outside the loop\n",
    "        timesfound[i] = t1 # record the time stamp\n",
    "    minDelta = 1000000\n",
    "    Delta = np.diff(timesfound) # it should be cast to int only when needed\n",
    "    minDelta = Delta.min()\n",
    "    return minDelta\n",
    "\n",
    "print(f\"Granularity for time.time(): {checktick():.2E} seconds\")\n"
   ]
  },
  {
   "cell_type": "code",
   "execution_count": 3,
   "metadata": {
    "tags": []
   },
   "outputs": [
    {
     "name": "stdout",
     "output_type": "stream",
     "text": [
      "Granularity for time.time_ns(): 7.68E-07 seconds\n"
     ]
    }
   ],
   "source": [
    "#time.time_ns()\n",
    "\n",
    "def checktick():\n",
    "    M = 200\n",
    "    timesfound = np.empty((M,))\n",
    "    for i in range(M):\n",
    "        t1 =  time.time_ns() # get timestamp from timer\n",
    "        t2 = time.time_ns() # get timestamp from timer\n",
    "        while (t2 - t1) < 1e-16: # if zero then we are below clock granularity, retake timing\n",
    "            t2 = time.time_ns() # get timestamp from timer\n",
    "        t1 = t2 # this is outside the loop\n",
    "        timesfound[i] = t1 # record the time stamp\n",
    "    minDelta = 1000000\n",
    "    Delta = np.diff(timesfound) # it should be cast to int only when needed\n",
    "    minDelta = Delta.min()\n",
    "    return minDelta/1e9\n",
    "\n",
    "print(f\"Granularity for time.time_ns(): {checktick():.2E} seconds\")\n"
   ]
  },
  {
   "cell_type": "code",
   "execution_count": 20,
   "metadata": {
    "tags": []
   },
   "outputs": [
    {
     "name": "stdout",
     "output_type": "stream",
     "text": [
      "Granularity for timeit: 2.50E-07 seconds\n"
     ]
    }
   ],
   "source": [
    "# timeit.timeit()\n",
    "\n",
    "def checktick():\n",
    "   M = 200\n",
    "   timesfound = np.empty((M,))\n",
    "   for i in range(M):\n",
    "      t1 =  timeit.default_timer() # get timestamp from timer\n",
    "      t2 = timeit.default_timer() # get timestamp from timer\n",
    "      while (t2 - t1) < 1e-16: # if zero then we are below clock granularity, retake timing\n",
    "          t2 = timeit.default_timer() # get timestamp from timer\n",
    "      t1 = t2 # this is outside the loop\n",
    "      timesfound[i] = t1 # record the time stamp\n",
    "   #minDelta = 1000000\n",
    "   Delta = np.diff(timesfound) # it should be cast to int only when needed\n",
    "   minDelta = Delta.min()\n",
    "   return minDelta\n",
    "\n",
    "print(f\"Granularity for timeit: {checktick():.2E} seconds\")\n"
   ]
  },
  {
   "cell_type": "markdown",
   "metadata": {},
   "source": [
    "## Task 1.2: Timing the Julia set code functions"
   ]
  },
  {
   "cell_type": "markdown",
   "metadata": {},
   "source": [
    "Due to lack of computing power on our laptop, we run the function with the following arguments: \n",
    "\n",
    "calc_pure_python(desired_width=1000, max_iterations=300) \n",
    "\n",
    "The best timer from Task 1.1 was timeit.default_timer() so it is used in the present Task. \n",
    "\n",
    "In order to calculate the average and the standard deviation of the running time, we run the code N=40 times.\n",
    "\n",
    "Using this decorator:"
   ]
  },
  {
   "cell_type": "code",
   "execution_count": 32,
   "metadata": {
    "tags": []
   },
   "outputs": [],
   "source": [
    "import timeit\n",
    "from functools import wraps\n",
    "\n",
    "global t_diff\n",
    "t_diff = []\n",
    "\n",
    "def timefn(fn):\n",
    "    @wraps(fn)\n",
    "    def measure_time(*args, **kwargs):\n",
    "        t1 =  timeit.default_timer()\n",
    "        result = fn(*args, **kwargs)\n",
    "        t2 =  timeit.default_timer()\n",
    "        t_diff.append(t2-t1)\n",
    "        return result\n",
    "    return measure_time\n"
   ]
  },
  {
   "cell_type": "code",
   "execution_count": 33,
   "metadata": {
    "tags": []
   },
   "outputs": [
    {
     "name": "stdout",
     "output_type": "stream",
     "text": [
      "calculate_z_serial_purepython took on average 1.9102803541478353 seconds with a standard deviation of 0.05308210634755559 seconds\n",
      "calc_pure_python took on average 2.021204278121877 seconds with a standard deviation of 0.05797843476566862 seconds\n"
     ]
    }
   ],
   "source": [
    "@timefn\n",
    "def calc_pure_python(desired_width, max_iterations):\n",
    "    \"\"\"Create a list of complex coordinates (zs) and complex parameters (cs),\n",
    "    build Julia set\"\"\"\n",
    "    x_step = (x2 - x1) / desired_width\n",
    "    y_step = (y1 - y2) / desired_width\n",
    "    x = []\n",
    "    y = []\n",
    "    ycoord = y2\n",
    "    while ycoord > y1:\n",
    "        y.append(ycoord)\n",
    "        ycoord += y_step\n",
    "    xcoord = x1\n",
    "    while xcoord < x2:\n",
    "        x.append(xcoord)\n",
    "        xcoord += x_step\n",
    "    # build a list of coordinates and the initial condition for each cell.\n",
    "    # Note that our initial condition is a constant and could easily be removed,\n",
    "    # we use it to simulate a real-world scenario with several inputs to our\n",
    "    # function\n",
    "    zs = []\n",
    "    cs = []\n",
    "    for ycoord in y:\n",
    "        for xcoord in x:\n",
    "            zs.append(complex(xcoord, ycoord))\n",
    "            cs.append(complex(c_real, c_imag))\n",
    "    \n",
    "    output = calculate_z_serial_purepython(max_iterations, zs, cs)\n",
    "\n",
    "\n",
    "@timefn\n",
    "def calculate_z_serial_purepython(maxiter, zs, cs):\n",
    "    \"\"\"Calculate output list using Julia update rule\"\"\"\n",
    "    output = [0] * len(zs)\n",
    "    for i in range(len(zs)):\n",
    "        n = 0\n",
    "        z = zs[i]\n",
    "        c = cs[i]\n",
    "        while abs(z) < 2 and n < maxiter:\n",
    "            z = z * z + c\n",
    "            n += 1\n",
    "        output[i] = n\n",
    "    return output\n",
    "\n",
    "N = 40 # run N times to calculate average and standard deviation\n",
    "for i in range(N): \n",
    "    calc_pure_python(desired_width=1000, max_iterations=300)\n",
    "    \n",
    "print(f\"calculate_z_serial_purepython took on average {np.mean(t_diff[0::2])} seconds with a standard deviation of {np.std(t_diff[0::2])} seconds\")\n",
    "print(f\"calc_pure_python took on average {np.mean(t_diff[1::2])} seconds with a standard deviation of {np.std(t_diff[1::2])} seconds\")\n"
   ]
  },
  {
   "cell_type": "markdown",
   "metadata": {},
   "source": [
    "## Task 1.3: Profile the Julia set code with cProvile and line_profiler"
   ]
  },
  {
   "cell_type": "code",
   "execution_count": 40,
   "metadata": {},
   "outputs": [
    {
     "name": "stdout",
     "output_type": "stream",
     "text": [
      "Length of x: 1000\n",
      "Total elements: 1000000\n",
      "calculate_z_serial_purepython took 20.547204971313477 seconds\n"
     ]
    }
   ],
   "source": [
    "%run -i -m cProfile -o profile.stats -s cumulative JuliaSet.py\n"
   ]
  },
  {
   "cell_type": "markdown",
   "metadata": {},
   "source": [
    "### Results of cProfile in Snakeviz\n",
    "python -m snakeviz profile.stats --server"
   ]
  },
  {
   "cell_type": "markdown",
   "metadata": {},
   "source": [
    "![SnakeViz graph](snakeviz.png)"
   ]
  },
  {
   "cell_type": "code",
   "execution_count": 36,
   "metadata": {},
   "outputs": [
    {
     "name": "stdout",
     "output_type": "stream",
     "text": [
      "Timer unit: 1e-06 s\n",
      "\n",
      "Total time: 96.9572 s\n",
      "File: JuliaSet.py\n",
      "Function: calc_pure_python at line 9\n",
      "\n",
      "Line #      Hits         Time  Per Hit   % Time  Line Contents\n",
      "==============================================================\n",
      "     9                                           @profile\n",
      "    10                                           def calc_pure_python(desired_width, max_iterations):\n",
      "    11                                               \"\"\"Create a list of complex coordinates (zs) and complex parameters (cs),\n",
      "    12                                               build Julia set\"\"\"\n",
      "    13         1          3.0      3.0      0.0      x_step = (x2 - x1) / desired_width\n",
      "    14         1          0.0      0.0      0.0      y_step = (y1 - y2) / desired_width\n",
      "    15         1          1.0      1.0      0.0      x = []\n",
      "    16         1          0.0      0.0      0.0      y = []\n",
      "    17         1          0.0      0.0      0.0      ycoord = y2\n",
      "    18      1001        577.0      0.6      0.0      while ycoord > y1:\n",
      "    19      1000        442.0      0.4      0.0          y.append(ycoord)\n",
      "    20      1000        440.0      0.4      0.0          ycoord += y_step\n",
      "    21         1          2.0      2.0      0.0      xcoord = x1\n",
      "    22      1001        916.0      0.9      0.0      while xcoord < x2:\n",
      "    23      1000        468.0      0.5      0.0          x.append(xcoord)\n",
      "    24      1000        549.0      0.5      0.0          xcoord += x_step\n",
      "    25                                               # build a list of coordinates and the initial condition for each cell.\n",
      "    26                                               # Note that our initial condition is a constant and could easily be removed,\n",
      "    27                                               # we use it to simulate a real-world scenario with several inputs to our\n",
      "    28                                               # function\n",
      "    29         1          1.0      1.0      0.0      zs = []\n",
      "    30         1          1.0      1.0      0.0      cs = []\n",
      "    31      1001       1037.0      1.0      0.0      for ycoord in y:\n",
      "    32   1001000     692569.0      0.7      0.7          for xcoord in x:\n",
      "    33   1000000     734519.0      0.7      0.8              zs.append(complex(xcoord, ycoord))\n",
      "    34   1000000     685739.0      0.7      0.7              cs.append(complex(c_real, c_imag))\n",
      "    35                                           \n",
      "    36         1        280.0    280.0      0.0      print(\"Length of x:\", len(x))\n",
      "    37         1         34.0     34.0      0.0      print(\"Total elements:\", len(zs))\n",
      "    38         1          3.0      3.0      0.0      start_time = time.time()\n",
      "    39         1   94839655.0    9e+07     97.8      output = calculate_z_serial_purepython(max_iterations, zs, cs)\n",
      "    40                                               end_time = time.time()\n",
      "    41                                               secs = end_time - start_time\n",
      "    42                                               print(calculate_z_serial_purepython.__name__ + \" took\", secs, \"seconds\")\n",
      "    43                                           \n",
      "    44                                               # This sum is expected for a 1000^2 grid with 300 iterations\n",
      "    45                                               # It ensures that our code evolves exactly as we'd intended\n",
      "    46                                               # assert sum(output) == 33219980\n",
      "\n",
      "Total time: 46.546 s\n",
      "File: JuliaSet.py\n",
      "Function: calculate_z_serial_purepython at line 48\n",
      "\n",
      "Line #      Hits         Time  Per Hit   % Time  Line Contents\n",
      "==============================================================\n",
      "    48                                           @profile\n",
      "    49                                           def calculate_z_serial_purepython(maxiter, zs, cs):\n",
      "    50                                               \"\"\"Calculate output list using Julia update rule\"\"\"\n",
      "    51         1       7680.0   7680.0      0.0      output = [0] * len(zs)\n",
      "    52    575671     381519.0      0.7      0.8      for i in range(len(zs)):\n",
      "    53    575671     256373.0      0.4      0.6          n = 0\n",
      "    54    575671     288853.0      0.5      0.6          z = zs[i]\n",
      "    55    575671     284953.0      0.5      0.6          c = cs[i]\n",
      "    56  26017937   19460609.0      0.7     41.8          while abs(z) < 2 and n < maxiter:\n",
      "    57  25442266   14045969.0      0.6     30.2              z = z * z + c\n",
      "    58  25442266   11526568.0      0.5     24.8              n += 1\n",
      "    59    575670     293509.0      0.5      0.6          output[i] = n\n",
      "    60                                               return output\n",
      "\n"
     ]
    }
   ],
   "source": [
    "# %run -i -m kernprof -l JuliaSet.py\n",
    "%run -i -m line_profiler JuliaSet.py.lprof"
   ]
  },
  {
   "cell_type": "markdown",
   "metadata": {},
   "source": [
    "### Overhead added by cProfiler and line_profiler\n",
    "\n",
    "| Function | timeit | cProfile | line_profile |\n",
    "|---|--- | --- | --- |\n",
    "|calc_pure_python| 8.1 | 20 | 96.96 |\n",
    "|calc_serial_purepython | 7.4 | 19.7 | 46.55 |\n",
    "\n",
    "\n",
    "| Function | cProfile overhead | line_profile overhead |\n",
    "|---|--- | --- | \n",
    "|calc_pure_python| 11.9 | 88.86 |\n",
    "|calc_serial_purepython | 12.3 | 39.15 |\n"
   ]
  },
  {
   "cell_type": "markdown",
   "metadata": {},
   "source": [
    "### Task 1.4: Memory profiling"
   ]
  },
  {
   "cell_type": "markdown",
   "metadata": {},
   "source": [
    "desired_width is set equal to 100 for the present Task."
   ]
  },
  {
   "cell_type": "code",
   "execution_count": 37,
   "metadata": {
    "tags": []
   },
   "outputs": [
    {
     "name": "stdout",
     "output_type": "stream",
     "text": [
      "Filename: JuliaSet_memory.py\n",
      "\n",
      "Line #    Mem usage    Increment  Occurrences   Line Contents\n",
      "=============================================================\n",
      "    11   94.734 MiB   94.734 MiB           1   @profile\n",
      "    12                                         def calc_pure_python(desired_width, max_iterations):\n",
      "    13                                             \"\"\"Create a list of complex coordinates (zs) and complex parameters (cs),\n",
      "    14                                             build Julia set\"\"\"\n",
      "    15   94.734 MiB    0.000 MiB           1       x_step = (x2 - x1) / desired_width\n",
      "    16   94.734 MiB    0.000 MiB           1       y_step = (y1 - y2) / desired_width\n",
      "    17   94.734 MiB    0.000 MiB           1       x = []\n",
      "    18   94.734 MiB    0.000 MiB           1       y = []\n",
      "    19   94.734 MiB    0.000 MiB           1       ycoord = y2\n",
      "    20   94.766 MiB    0.000 MiB         101       while ycoord > y1:\n",
      "    21   94.766 MiB    0.031 MiB         100           y.append(ycoord)\n",
      "    22   94.766 MiB    0.000 MiB         100           ycoord += y_step\n",
      "    23   94.766 MiB    0.000 MiB           1       xcoord = x1\n",
      "    24   94.766 MiB    0.000 MiB         101       while xcoord < x2:\n",
      "    25   94.766 MiB    0.000 MiB         100           x.append(xcoord)\n",
      "    26   94.766 MiB    0.000 MiB         100           xcoord += x_step\n",
      "    27                                             # build a list of coordinates and the initial condition for each cell.\n",
      "    28                                             # Note that our initial condition is a constant and could easily be removed,\n",
      "    29                                             # we use it to simulate a real-world scenario with several inputs to our\n",
      "    30                                             # function\n",
      "    31   94.766 MiB    0.000 MiB           1       zs = []\n",
      "    32   94.766 MiB    0.000 MiB           1       cs = []\n",
      "    33   95.000 MiB    0.000 MiB         101       for ycoord in y:\n",
      "    34   95.000 MiB    0.000 MiB       10100           for xcoord in x:\n",
      "    35   95.000 MiB    0.156 MiB       10000               zs.append(complex(xcoord, ycoord))\n",
      "    36   95.000 MiB    0.078 MiB       10000               cs.append(complex(c_real, c_imag))\n",
      "    37                                             \n",
      "    38                                             # print(\"Length of x:\", len(x))\n",
      "    39                                             # print(\"Total elements:\", len(zs))\n",
      "    40   95.000 MiB   95.000 MiB           1       output = calculate_z_serial_purepython(max_iterations, zs, cs)\n",
      "\n",
      "\n",
      "Filename: JuliaSet_memory.py\n",
      "\n",
      "Line #    Mem usage    Increment  Occurrences   Line Contents\n",
      "=============================================================\n",
      "    43   95.000 MiB   95.000 MiB           1   @profile\n",
      "    44                                         def calculate_z_serial_purepython(maxiter, zs, cs):\n",
      "    45                                             \"\"\"Calculate output list using Julia update rule\"\"\"\n",
      "    46   95.000 MiB    0.000 MiB           1       output = [0] * len(zs)\n",
      "    47   95.000 MiB    0.000 MiB       10001       for i in range(len(zs)):\n",
      "    48   95.000 MiB    0.000 MiB       10000           n = 0\n",
      "    49   95.000 MiB    0.000 MiB       10000           z = zs[i]\n",
      "    50   95.000 MiB    0.000 MiB       10000           c = cs[i]\n",
      "    51   95.000 MiB    0.000 MiB      344236           while abs(z) < 2 and n < maxiter:\n",
      "    52   95.000 MiB    0.000 MiB      334236               z = z * z + c\n",
      "    53   95.000 MiB    0.000 MiB      334236               n += 1\n",
      "    54   95.000 MiB    0.000 MiB       10000           output[i] = n\n",
      "    55   95.000 MiB    0.000 MiB           1       return output\n",
      "\n",
      "\n"
     ]
    }
   ],
   "source": [
    "%run -m memory_profiler JuliaSet_memory.py"
   ]
  },
  {
   "cell_type": "markdown",
   "metadata": {},
   "source": [
    "desired_width is changed back to 1000."
   ]
  },
  {
   "cell_type": "code",
   "execution_count": 47,
   "metadata": {
    "tags": []
   },
   "outputs": [
    {
     "name": "stdout",
     "output_type": "stream",
     "text": [
      "mprof.py: Sampling memory every 0.1s\n",
      "running new process\n",
      "running as a Python program...\n"
     ]
    },
    {
     "data": {
      "image/png": "[encoded data removed]",
      "text/plain": [
       "<Figure size 1260x540 with 1 Axes>"
      ]
     },
     "metadata": {},
     "output_type": "display_data"
    }
   ],
   "source": [
    "%run -m mprof run --output mprofile_julia.dat JuliaSet_memory.py\n",
    "%run -m mprof plot mprofile_julia.dat"
   ]
  },
  {
   "cell_type": "markdown",
   "metadata": {},
   "source": [
    "### Overhead added by memory_rofiler and mprof\n",
    "\n",
    "As expected mprof adds a negligible overhead, while memory_profiler importantly increases the running time.\n",
    "\n",
    "| Function | memory_profiler overhead (desired_width=100) | mprof overhead (desired_width=1000) |\n",
    "| --- | --- | --- | \n",
    "|calc_pure_python| 8.87 | 0.04 |\n",
    "|calc_serial_purepython | 8.53 | 0.01 |\n"
   ]
  },
  {
   "cell_type": "markdown",
   "metadata": {},
   "source": [
    "# Task 2.1: Profile the diffusion process code\n",
    "## cProfile"
   ]
  },
  {
   "cell_type": "code",
   "execution_count": 55,
   "metadata": {},
   "outputs": [],
   "source": [
    "%run -i -m cProfile -o profile_diffusion.stats -s cumulative DiffusionProcess.py"
   ]
  },
  {
   "cell_type": "markdown",
   "metadata": {
    "tags": []
   },
   "source": [
    "### cProfile output visualized using snakeviz\n",
    "python -m snakeviz profile_diffusion.stats --server\n",
    "\n",
    "Note: The call graph was not very interesting in this case, shown below is the more detailed view by function"
   ]
  },
  {
   "cell_type": "markdown",
   "metadata": {},
   "source": [
    "![Snakeviz cprofile](snakeviz_diffusion.png)"
   ]
  },
  {
   "cell_type": "code",
   "execution_count": 57,
   "metadata": {},
   "outputs": [
    {
     "name": "stdout",
     "output_type": "stream",
     "text": [
      "Wrote profile results to DiffusionProcess.py.lprof\n",
      "Inspect results with:\n",
      "python -m line_profiler -rmt \"DiffusionProcess.py.lprof\"\n",
      "Timer unit: 1e-06 s\n",
      "\n",
      "Total time: 0.082064 s\n",
      "File: DiffusionProcess.py\n",
      "Function: evolve at line 5\n",
      "\n",
      "Line #      Hits         Time  Per Hit   % Time  Line Contents\n",
      "==============================================================\n",
      "     5                                           @profile\n",
      "     6                                           def evolve(grid, dt, D=1.0):\n",
      "     7         5          9.0      1.8      0.0      xmax, ymax = grid_shape\n",
      "     8       325       1379.0      4.2      1.7      new_grid = [[0.0] * ymax for x in range(xmax)]\n",
      "     9       325        245.0      0.8      0.3      for i in range(xmax):\n",
      "    10     20800      14077.0      0.7     17.2          for j in range(ymax):\n",
      "    11     20480      10255.0      0.5     12.5              grid_xx = (\n",
      "    12     20480      17026.0      0.8     20.7                  grid[(i + 1) % xmax][j] + grid[(i - 1) % xmax][j] - 2.0 * grid[i][j]\n",
      "    13                                                       )\n",
      "    14     20480      10277.0      0.5     12.5              grid_yy = (\n",
      "    15     20480      15865.0      0.8     19.3                  grid[i][(j + 1) % ymax] + grid[i][(j - 1) % ymax] - 2.0 * grid[i][j]\n",
      "    16                                                       )\n",
      "    17     20480      12916.0      0.6     15.7              new_grid[i][j] = grid[i][j] + D * (grid_xx + grid_yy) * dt\n",
      "    18         5         15.0      3.0      0.0      return new_grid\n",
      "\n",
      "Total time: 0.178407 s\n",
      "File: DiffusionProcess.py\n",
      "Function: run_experiment at line 20\n",
      "\n",
      "Line #      Hits         Time  Per Hit   % Time  Line Contents\n",
      "==============================================================\n",
      "    20                                           @profile\n",
      "    21                                           def run_experiment(num_iterations):\n",
      "    22                                               # Setting up initial conditions \n",
      "    23         1          4.0      4.0      0.0      xmax, ymax = grid_shape\n",
      "    24        65        826.0     12.7      0.5      grid = [[0.0] * ymax for x in range(xmax)]\n",
      "    25                                           \n",
      "    26                                               # These initial conditions are simulating a drop of dye in the middle of our\n",
      "    27                                               # simulated region\n",
      "    28         1          8.0      8.0      0.0      block_low = int(grid_shape[0] * 0.4)\n",
      "    29         1          1.0      1.0      0.0      block_high = int(grid_shape[0] * 0.5)\n",
      "    30         8          8.0      1.0      0.0      for i in range(block_low, block_high):\n",
      "    31        56         55.0      1.0      0.0          for j in range(block_low, block_high):\n",
      "    32        49         40.0      0.8      0.0              grid[i][j] = 0.005\n",
      "    33                                           \n",
      "    34                                               # Evolve the initial conditions\n",
      "    35         6         16.0      2.7      0.0      for i in range(num_iterations):\n",
      "    36         5     177449.0  35489.8     99.5          grid = evolve(grid, 0.1)\n",
      "\n"
     ]
    }
   ],
   "source": [
    "%run -i -m kernprof -l DiffusionProcess.py\n",
    "%run -i -m line_profiler DiffusionProcess.py.lprof"
   ]
  },
  {
   "cell_type": "markdown",
   "metadata": {},
   "source": [
    "## Task 2.2: Memory profile the diffusion code"
   ]
  },
  {
   "cell_type": "code",
   "execution_count": 54,
   "metadata": {
    "tags": []
   },
   "outputs": [
    {
     "name": "stdout",
     "output_type": "stream",
     "text": [
      "Filename: DiffusionProcess.py\n",
      "\n",
      "Line #    Mem usage    Increment  Occurrences   Line Contents\n",
      "=============================================================\n",
      "     5  247.203 MiB 2359.641 MiB          10   @profile\n",
      "     6                                         def evolve(grid, dt, D=1.0):\n",
      "     7  247.203 MiB    0.000 MiB          10       xmax, ymax = grid_shape\n",
      "     8  249.609 MiB   14.766 MiB        6430       new_grid = [[0.0] * ymax for x in range(xmax)]\n",
      "     9  252.609 MiB -13544.969 MiB        6410       for i in range(xmax):\n",
      "    10  252.609 MiB -8692643.188 MiB     4102400           for j in range(ymax):\n",
      "    11  252.609 MiB -8679029.141 MiB     4096000               grid_xx = (\n",
      "    12  252.609 MiB -8679098.219 MiB     4096000                   grid[(i + 1) % xmax][j] + grid[(i - 1) % xmax][j] - 2.0 * grid[i][j]\n",
      "    13                                                     )\n",
      "    14  252.609 MiB -8679066.250 MiB     4096000               grid_yy = (\n",
      "    15  252.609 MiB -8679066.250 MiB     4096000                   grid[i][(j + 1) % ymax] + grid[i][(j - 1) % ymax] - 2.0 * grid[i][j]\n",
      "    16                                                     )\n",
      "    17  252.609 MiB -8679066.250 MiB     4096000               new_grid[i][j] = grid[i][j] + D * (grid_xx + grid_yy) * dt\n",
      "    18  252.609 MiB    0.000 MiB          10       return new_grid\n",
      "\n",
      "\n",
      "Filename: DiffusionProcess.py\n",
      "\n",
      "Line #    Mem usage    Increment  Occurrences   Line Contents\n",
      "=============================================================\n",
      "    20  210.641 MiB  210.641 MiB           1   @profile\n",
      "    21                                         def run_experiment(num_iterations):\n",
      "    22                                             # Setting up initial conditions \n",
      "    23  210.641 MiB    0.000 MiB           1       xmax, ymax = grid_shape\n",
      "    24  212.750 MiB    2.109 MiB         643       grid = [[0.0] * ymax for x in range(xmax)]\n",
      "    25                                         \n",
      "    26                                             # These initial conditions are simulating a drop of dye in the middle of our\n",
      "    27                                             # simulated region\n",
      "    28  212.750 MiB    0.000 MiB           1       block_low = int(grid_shape[0] * 0.4)\n",
      "    29  212.750 MiB    0.000 MiB           1       block_high = int(grid_shape[0] * 0.5)\n",
      "    30  212.750 MiB    0.000 MiB          65       for i in range(block_low, block_high):\n",
      "    31  212.750 MiB    0.000 MiB        4160           for j in range(block_low, block_high):\n",
      "    32  212.750 MiB    0.000 MiB        4096               grid[i][j] = 0.005\n",
      "    33                                         \n",
      "    34                                             # Evolve the initial conditions\n",
      "    35  251.609 MiB    0.000 MiB          11       for i in range(num_iterations):\n",
      "    36  251.609 MiB 2398.500 MiB          10           grid = evolve(grid, 0.1)\n",
      "\n",
      "\n"
     ]
    }
   ],
   "source": [
    "%run -m memory_profiler DiffusionProcess.py"
   ]
  },
  {
   "cell_type": "code",
   "execution_count": 48,
   "metadata": {
    "tags": []
   },
   "outputs": [
    {
     "name": "stdout",
     "output_type": "stream",
     "text": [
      "mprof.py: Sampling memory every 0.1s\n",
      "running new process\n",
      "running as a Python program...\n"
     ]
    },
    {
     "data": {
      "image/png": "[encoded data removed]",
      "text/plain": [
       "<Figure size 1260x540 with 1 Axes>"
      ]
     },
     "metadata": {},
     "output_type": "display_data"
    }
   ],
   "source": [
    "%run -m mprof run --output mprofile_diffusion.dat DiffusionProcess.py\n",
    "%run -m mprof plot mprofile_diffusion.dat"
   ]
  },
  {
   "cell_type": "markdown",
   "metadata": {},
   "source": [
    "### Overhead added by memory_rofiler and mprof\n",
    "\n",
    "Without the memory profilers, for num_iterations = 10, the code runs in 0.71 seconds.\n",
    "\n",
    "| memory_profiler overhead | mprof overhead |\n",
    "| --- | --- | \n",
    "| 208.15 | 0.02 |\n"
   ]
  },
  {
   "cell_type": "markdown",
   "metadata": {},
   "source": [
    "## Bonus Exercise: Profiler Tool for Monitoring CPU Usage\n",
    "We developed our profiler as Python class in [CPUMonitor.py](CPUMonitor.py). It records the CPU percentage of every core on a system either during a specified amount of time or as long as a program is running. The values are printed to the terminal, plotted and saved for future reference (see [julia_set.csv](julia_set.csv) and [diffusion_process.csv](diffusion_process.csv) for precise values and the graphs below for an overall trend). \n",
    "\n",
    "\n",
    "![Julia_set](julia_set.png)\n",
    "![Diffusion_process](diffusion_process.png)\n",
    "\n",
    "\n",
    "Because a large number of processes are usually running simultaneously on our computers, the measurements are not very consistent between different runs. For long and CPU-intensive programs, it usually becomes possible to determine which cores they were run on, as these have load spikes for the duration of the program execution. Thereby one can deduce how parallelized the program currently is. "
   ]
  }
 ],
 "metadata": {
  "kernelspec": {
   "display_name": "Python 3 (ipykernel)",
   "language": "python",
   "name": "python3"
  },
  "language_info": {
   "codemirror_mode": {
    "name": "ipython",
    "version": 3
   },
   "file_extension": ".py",
   "mimetype": "text/x-python",
   "name": "python",
   "nbconvert_exporter": "python",
   "pygments_lexer": "ipython3",
   "version": "3.11.5"
  }
 },
 "nbformat": 4,
 "nbformat_minor": 4
}
