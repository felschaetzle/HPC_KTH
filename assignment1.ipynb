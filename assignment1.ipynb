{
 "cells": [
  {
   "cell_type": "markdown",
   "metadata": {},
   "source": [
    "## Task 1.1 Calculate the Clock Granularity of different Python Timers"
   ]
  },
  {
   "cell_type": "code",
   "execution_count": 2,
   "metadata": {},
   "outputs": [
    {
     "data": {
      "text/plain": [
       "2.384185791015625e-07"
      ]
     },
     "execution_count": 2,
     "metadata": {},
     "output_type": "execute_result"
    }
   ],
   "source": [
    "# time.time()\n",
    "import numpy as np\n",
    "import time\n",
    "def checktick():\n",
    "    M = 200\n",
    "    timesfound = np.empty((M,))\n",
    "    for i in range(M):\n",
    "        t1 =  time.time() # get timestamp from timer\n",
    "        t2 = time.time() # get timestamp from timer\n",
    "        while (t2 - t1) < 1e-16: # if zero then we are below clock granularity, retake timing\n",
    "            t2 = time.time() # get timestamp from timer\n",
    "        t1 = t2 # this is outside the loop\n",
    "        timesfound[i] = t1 # record the time stamp\n",
    "    minDelta = 1000000\n",
    "    Delta = np.diff(timesfound) # it should be cast to int only when needed\n",
    "    minDelta = Delta.min()\n",
    "    return minDelta\n",
    "\n",
    "checktick()"
   ]
  },
  {
   "cell_type": "code",
   "execution_count": 11,
   "metadata": {},
   "outputs": [
    {
     "data": {
      "text/plain": [
       "2.56e-07"
      ]
     },
     "execution_count": 11,
     "metadata": {},
     "output_type": "execute_result"
    }
   ],
   "source": [
    "# time.time_ns()\n",
    "import numpy as np\n",
    "import time\n",
    "def checktick():\n",
    "    M = 200\n",
    "    timesfound = np.empty((M,))\n",
    "    for i in range(M):\n",
    "        t1 =  time.time_ns() # get timestamp from timer\n",
    "        t2 = time.time_ns() # get timestamp from timer\n",
    "        while (t2 - t1) < 1e-16: # if zero then we are below clock granularity, retake timing\n",
    "            t2 = time.time_ns() # get timestamp from timer\n",
    "        t1 = t2 # this is outside the loop\n",
    "        timesfound[i] = t1 # record the time stamp\n",
    "    minDelta = 1000000\n",
    "    Delta = np.diff(timesfound) # it should be cast to int only when needed\n",
    "    minDelta = Delta.min()\n",
    "    return minDelta/1e9\n",
    "\n",
    "checktick()"
   ]
  },
  {
   "cell_type": "code",
   "execution_count": 25,
   "metadata": {},
   "outputs": [
    {
     "name": "stdout",
     "output_type": "stream",
     "text": [
      "Execution time: 5.354199993234943e-05 seconds\n"
     ]
    }
   ],
   "source": [
    "# timeit.timeit()\n",
    "import numpy as np\n",
    "import time\n",
    "import timeit\n",
    "\n",
    "def checktick():\n",
    "    t1 = time.time()\n",
    "    t2 = time.time()\n",
    "    while (t2 - t1) < 1e-16:  # if zero then we are below clock granularity, retake timing\n",
    "        t2 = time.time()\n",
    "\n",
    "# Measure the time taken by the function using timeit\n",
    "execution_time = timeit.timeit(\"checktick()\", globals=globals(), number=200)\n",
    "print(f\"Execution time: {execution_time} seconds\")\n"
   ]
  },
  {
   "cell_type": "markdown",
   "metadata": {},
   "source": [
    "## Task 1.2 Timing the Julia set code functions"
   ]
  },
  {
   "cell_type": "markdown",
   "metadata": {},
   "source": [
    "Due to lack of computing power on our laptop, we run the function with the following arguments: \n",
    "calc_pure_python(desired_width=1000, max_iterations=300) \n",
    "\n",
    "Using this decorator:"
   ]
  },
  {
   "cell_type": "code",
   "execution_count": null,
   "metadata": {},
   "outputs": [],
   "source": [
    "def timefn(fn):\n",
    "    @wraps(fn)\n",
    "    def measure_time(*args, **kwargs):\n",
    "        t1 = time.time()\n",
    "        result = fn(*args, **kwargs)\n",
    "        t2 = time.time()\n",
    "        print(f\"@timefn: {fn.__name__} took {t2 - t1} seconds\")\n",
    "        return result\n",
    "    return measure_time"
   ]
  },
  {
   "cell_type": "markdown",
   "metadata": {},
   "source": [
    "we received the following results:\n",
    "\n",
    "Length of x: 1000\n",
    "\n",
    "Total elements: 1000000\n",
    "\n",
    "@timefn: calculate_z_serial_purepython took 2.7250895500183105 seconds\n",
    "\n",
    "calculate_z_serial_purepython took 2.725140333175659 seconds\n",
    "\n",
    "@timefn: calc_pure_python took 2.8604602813720703 seconds"
   ]
  },
  {
   "cell_type": "code",
   "execution_count": null,
   "metadata": {},
   "outputs": [],
   "source": []
  }
 ],
 "metadata": {
  "kernelspec": {
   "display_name": "Python 3",
   "language": "python",
   "name": "python3"
  },
  "language_info": {
   "codemirror_mode": {
    "name": "ipython",
    "version": 3
   },
   "file_extension": ".py",
   "mimetype": "text/x-python",
   "name": "python",
   "nbconvert_exporter": "python",
   "pygments_lexer": "ipython3",
   "version": "3.10.12"
  }
 },
 "nbformat": 4,
 "nbformat_minor": 2
}
