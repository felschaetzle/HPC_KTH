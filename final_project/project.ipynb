{
 "cells": [
  {
   "cell_type": "markdown",
   "metadata": {},
   "source": [
    "# DD2358 Final Project: Artifical Neural Network in Python\n",
    " Group 17: Felix Schätzle, Georgios Mitsos, Thorben Fetz\n",
    "\n",
    "The code we used as a starting point is located in a [GitHub repository](https://github.com/pmocz/artificialneuralnetwork-python/blob/main/artificialneuralnetwork.py). It trains and evaluates a three-layer neural network on the task of classifying images of galaxies into three categories. \n"
   ]
  },
  {
   "cell_type": "code",
   "execution_count": 1,
   "metadata": {},
   "outputs": [],
   "source": [
    "from timeit import default_timer as timer\n",
    "import matplotlib.pyplot as plt\n"
   ]
  },
  {
   "cell_type": "code",
   "execution_count": 16,
   "metadata": {},
   "outputs": [
    {
     "name": "stdout",
     "output_type": "stream",
     "text": [
      "initial cost function J = 2.0368341799643392\n",
      "initial accuracy on training set = 0.3333333333333333\n",
      "iter=  1:  Jtrain= 1.9494 acc= 33.33%  |  Jtest= 2.0102 acc= 33.33%\n",
      "iter=  2:  Jtrain= 1.9412 acc= 33.33%  |  Jtest= 2.0019 acc= 33.33%\n",
      "iter=  3:  Jtrain= 1.9312 acc= 33.33%  |  Jtest= 1.9918 acc= 33.33%\n",
      "iter=  4:  Jtrain= 1.9303 acc= 33.41%  |  Jtest= 1.9908 acc= 33.19%\n",
      "iter=  5:  Jtrain= 1.9302 acc= 37.44%  |  Jtest= 1.9907 acc= 39.85%\n",
      "iter=  6:  Jtrain= 1.9301 acc= 33.30%  |  Jtest= 1.9906 acc= 37.19%\n",
      "         Current function value: 1.930124\n",
      "         Iterations: 6\n",
      "         Function evaluations: 9\n",
      "         Gradient evaluations: 9\n",
      "accuracy on training set = 0.33296296296296296\n",
      "accuracy on test set = 0.3718518518518519\n"
     ]
    },
    {
     "name": "stderr",
     "output_type": "stream",
     "text": [
      "/Users/tfetz/Development/KTH/HPC_KTH/.venv/lib/python3.11/site-packages/scipy/optimize/_optimize.py:1764: OptimizeWarning: Maximum number of iterations has been exceeded.\n",
      "  res = _minimize_cg(f, x0, args, fprime, callback=callback, c1=c1, c2=c2,\n"
     ]
    }
   ],
   "source": [
    "%run -m cProfile -o profiling/artificialneuralnetwork.stats -s cumulative artificialneuralnetwork.py"
   ]
  },
  {
   "cell_type": "markdown",
   "metadata": {},
   "source": [
    "![inital cProfile result](profiling/cProfile_initial.png)"
   ]
  },
  {
   "cell_type": "code",
   "execution_count": null,
   "metadata": {},
   "outputs": [],
   "source": []
  }
 ],
 "metadata": {
  "kernelspec": {
   "display_name": ".venv",
   "language": "python",
   "name": "python3"
  },
  "language_info": {
   "codemirror_mode": {
    "name": "ipython",
    "version": 3
   },
   "file_extension": ".py",
   "mimetype": "text/x-python",
   "name": "python",
   "nbconvert_exporter": "python",
   "pygments_lexer": "ipython3",
   "version": "3.11.7"
  }
 },
 "nbformat": 4,
 "nbformat_minor": 2
}
