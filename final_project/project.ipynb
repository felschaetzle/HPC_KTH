{
 "cells": [
  {
   "cell_type": "markdown",
   "metadata": {},
   "source": [
    "# DD2358 Final Project: Artifical Neural Network in Python\n",
    " Group 17: Felix Schätzle, Georgios Mitsos, Thorben Fetz\n",
    "\n",
    "The code we used as a starting point is located in a [GitHub repository](https://github.com/pmocz/artificialneuralnetwork-python/blob/main/artificialneuralnetwork.py). It trains and evaluates a three-layer neural network on the task of classifying images of galaxies into three categories. \n"
   ]
  },
  {
   "cell_type": "code",
   "execution_count": 1,
   "metadata": {},
   "outputs": [],
   "source": [
    "from timeit import default_timer as timer\n",
    "import matplotlib.pyplot as plt\n"
   ]
  },
  {
   "cell_type": "code",
   "execution_count": 17,
   "metadata": {},
   "outputs": [
    {
     "name": "stdout",
     "output_type": "stream",
     "text": [
      "initial cost function J = 2.0368341799643392\n",
      "initial accuracy on training set = 0.3333333333333333\n",
      "iter=  1:  Jtrain= 1.9494 acc= 33.33%  |  Jtest= 2.0102 acc= 33.33%\n",
      "iter=  2:  Jtrain= 1.9412 acc= 33.33%  |  Jtest= 2.0019 acc= 33.33%\n",
      "iter=  3:  Jtrain= 1.9312 acc= 33.33%  |  Jtest= 1.9918 acc= 33.33%\n",
      "iter=  4:  Jtrain= 1.9303 acc= 33.41%  |  Jtest= 1.9908 acc= 33.19%\n",
      "iter=  5:  Jtrain= 1.9302 acc= 37.44%  |  Jtest= 1.9907 acc= 39.85%\n",
      "iter=  6:  Jtrain= 1.9301 acc= 33.30%  |  Jtest= 1.9906 acc= 37.19%\n",
      "iter=  7:  Jtrain= 1.9299 acc= 33.33%  |  Jtest= 1.9899 acc= 33.33%\n",
      "iter=  8:  Jtrain= 1.9291 acc= 33.33%  |  Jtest= 1.9874 acc= 33.33%\n",
      "iter=  9:  Jtrain= 1.9277 acc= 33.26%  |  Jtest= 1.9843 acc= 33.33%\n",
      "iter= 10:  Jtrain= 1.9267 acc= 33.15%  |  Jtest= 1.9815 acc= 33.19%\n",
      "iter= 11:  Jtrain= 1.9264 acc= 35.70%  |  Jtest= 1.9806 acc= 34.81%\n",
      "iter= 12:  Jtrain= 1.9246 acc= 34.22%  |  Jtest= 1.9771 acc= 33.19%\n",
      "iter= 13:  Jtrain= 1.9236 acc= 32.30%  |  Jtest= 1.9753 acc= 32.44%\n",
      "iter= 14:  Jtrain= 1.9234 acc= 33.22%  |  Jtest= 1.9747 acc= 33.33%\n",
      "iter= 15:  Jtrain= 1.9195 acc= 39.93%  |  Jtest= 1.9681 acc= 39.41%\n",
      "iter= 16:  Jtrain= 1.9160 acc= 33.19%  |  Jtest= 1.9622 acc= 33.33%\n",
      "iter= 17:  Jtrain= 1.9144 acc= 33.63%  |  Jtest= 1.9597 acc= 33.78%\n",
      "iter= 18:  Jtrain= 1.9127 acc= 39.67%  |  Jtest= 1.9580 acc= 40.30%\n",
      "iter= 19:  Jtrain= 1.9101 acc= 40.00%  |  Jtest= 1.9553 acc= 38.52%\n",
      "iter= 20:  Jtrain= 1.9089 acc= 40.67%  |  Jtest= 1.9541 acc= 41.33%\n",
      "iter= 21:  Jtrain= 1.9055 acc= 42.70%  |  Jtest= 1.9511 acc= 41.93%\n",
      "iter= 22:  Jtrain= 1.9019 acc= 39.19%  |  Jtest= 1.9472 acc= 38.52%\n",
      "iter= 23:  Jtrain= 1.8999 acc= 38.07%  |  Jtest= 1.9452 acc= 37.19%\n",
      "iter= 24:  Jtrain= 1.8982 acc= 44.52%  |  Jtest= 1.9431 acc= 44.59%\n",
      "iter= 25:  Jtrain= 1.8978 acc= 46.30%  |  Jtest= 1.9430 acc= 44.89%\n",
      "iter= 26:  Jtrain= 1.8956 acc= 45.93%  |  Jtest= 1.9407 acc= 44.00%\n",
      "iter= 27:  Jtrain= 1.8891 acc= 46.22%  |  Jtest= 1.9348 acc= 46.37%\n",
      "iter= 28:  Jtrain= 1.8849 acc= 47.52%  |  Jtest= 1.9303 acc= 47.70%\n",
      "iter= 29:  Jtrain= 1.8833 acc= 47.11%  |  Jtest= 1.9294 acc= 46.81%\n",
      "iter= 30:  Jtrain= 1.8776 acc= 47.07%  |  Jtest= 1.9246 acc= 44.00%\n",
      "iter= 31:  Jtrain= 1.8755 acc= 49.07%  |  Jtest= 1.9219 acc= 47.70%\n",
      "iter= 32:  Jtrain= 1.8711 acc= 47.19%  |  Jtest= 1.9155 acc= 46.67%\n",
      "iter= 33:  Jtrain= 1.8565 acc= 44.96%  |  Jtest= 1.9019 acc= 44.00%\n",
      "iter= 34:  Jtrain= 1.8557 acc= 46.44%  |  Jtest= 1.9017 acc= 44.89%\n",
      "iter= 35:  Jtrain= 1.8526 acc= 48.33%  |  Jtest= 1.8973 acc= 49.63%\n",
      "iter= 36:  Jtrain= 1.8513 acc= 48.30%  |  Jtest= 1.8967 acc= 49.04%\n",
      "iter= 37:  Jtrain= 1.8477 acc= 47.30%  |  Jtest= 1.8919 acc= 48.00%\n",
      "iter= 38:  Jtrain= 1.8457 acc= 48.19%  |  Jtest= 1.8910 acc= 49.78%\n",
      "iter= 39:  Jtrain= 1.8431 acc= 49.81%  |  Jtest= 1.8883 acc= 49.33%\n",
      "iter= 40:  Jtrain= 1.8414 acc= 49.44%  |  Jtest= 1.8862 acc= 47.70%\n",
      "iter= 41:  Jtrain= 1.8411 acc= 49.89%  |  Jtest= 1.8864 acc= 50.22%\n",
      "iter= 42:  Jtrain= 1.8399 acc= 49.19%  |  Jtest= 1.8845 acc= 50.52%\n",
      "iter= 43:  Jtrain= 1.8326 acc= 50.52%  |  Jtest= 1.8771 acc= 50.67%\n",
      "iter= 44:  Jtrain= 1.8320 acc= 50.41%  |  Jtest= 1.8760 acc= 51.56%\n",
      "iter= 45:  Jtrain= 1.8297 acc= 50.93%  |  Jtest= 1.8738 acc= 50.07%\n",
      "iter= 46:  Jtrain= 1.8281 acc= 51.19%  |  Jtest= 1.8703 acc= 51.11%\n",
      "iter= 47:  Jtrain= 1.8262 acc= 51.19%  |  Jtest= 1.8684 acc= 52.00%\n",
      "iter= 48:  Jtrain= 1.8161 acc= 51.00%  |  Jtest= 1.8565 acc= 52.15%\n",
      "iter= 49:  Jtrain= 1.8131 acc= 51.93%  |  Jtest= 1.8541 acc= 53.78%\n",
      "iter= 50:  Jtrain= 1.8088 acc= 52.41%  |  Jtest= 1.8488 acc= 52.89%\n",
      "iter= 51:  Jtrain= 1.8044 acc= 52.15%  |  Jtest= 1.8442 acc= 52.00%\n",
      "iter= 52:  Jtrain= 1.7963 acc= 48.04%  |  Jtest= 1.8332 acc= 45.48%\n",
      "iter= 53:  Jtrain= 1.7923 acc= 46.63%  |  Jtest= 1.8274 acc= 45.33%\n",
      "iter= 54:  Jtrain= 1.7814 acc= 53.04%  |  Jtest= 1.8142 acc= 53.78%\n",
      "iter= 55:  Jtrain= 1.7788 acc= 53.33%  |  Jtest= 1.8111 acc= 53.93%\n",
      "iter= 56:  Jtrain= 1.7779 acc= 53.33%  |  Jtest= 1.8096 acc= 54.67%\n",
      "iter= 57:  Jtrain= 1.7773 acc= 53.56%  |  Jtest= 1.8090 acc= 54.52%\n",
      "iter= 58:  Jtrain= 1.7741 acc= 53.30%  |  Jtest= 1.8056 acc= 55.56%\n",
      "iter= 59:  Jtrain= 1.7724 acc= 52.96%  |  Jtest= 1.8045 acc= 56.00%\n",
      "iter= 60:  Jtrain= 1.7693 acc= 53.11%  |  Jtest= 1.8028 acc= 56.00%\n",
      "         Current function value: 1.769300\n",
      "         Iterations: 60\n",
      "         Function evaluations: 114\n",
      "         Gradient evaluations: 114\n",
      "accuracy on training set = 0.5311111111111111\n",
      "accuracy on test set = 0.56\n"
     ]
    }
   ],
   "source": [
    "%run -m cProfile -o profiling/artificialneuralnetwork.stats -s cumulative artificialneuralnetwork.py"
   ]
  },
  {
   "cell_type": "markdown",
   "metadata": {},
   "source": [
    "![inital cProfile result](profiling/cProfile_initial.png)"
   ]
  },
  {
   "cell_type": "code",
   "execution_count": null,
   "metadata": {},
   "outputs": [],
   "source": []
  }
 ],
 "metadata": {
  "kernelspec": {
   "display_name": ".venv",
   "language": "python",
   "name": "python3"
  },
  "language_info": {
   "codemirror_mode": {
    "name": "ipython",
    "version": 3
   },
   "file_extension": ".py",
   "mimetype": "text/x-python",
   "name": "python",
   "nbconvert_exporter": "python",
   "pygments_lexer": "ipython3",
   "version": "3.11.7"
  }
 },
 "nbformat": 4,
 "nbformat_minor": 2
}
