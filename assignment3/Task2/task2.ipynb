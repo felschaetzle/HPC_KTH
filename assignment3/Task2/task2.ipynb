{
 "cells": [
  {
   "cell_type": "markdown",
   "id": "881626a2-5451-4ae3-ac10-d469fa4fa7fc",
   "metadata": {},
   "source": [
    "## Exerice 2 - Gauss-Seidel for Poisson Solver\n",
    "\n",
    "## Task 2.1"
   ]
  },
  {
   "cell_type": "markdown",
   "id": "7eb9aff5-2c8a-4c83-b431-1b87dabd809e",
   "metadata": {},
   "source": [
    "NumPy arrays are used for the present exercise."
   ]
  },
  {
   "cell_type": "code",
   "execution_count": 2,
   "id": "f8a32d15-5b3a-4aab-9dd2-425bf3b141e2",
   "metadata": {
    "tags": []
   },
   "outputs": [
    {
     "name": "stderr",
     "output_type": "stream",
     "text": [
      "/home/felix/.local/lib/python3.10/site-packages/matplotlib/projections/__init__.py:63: UserWarning: Unable to import Axes3D. This may be due to multiple versions of Matplotlib being installed (e.g. as a system package and as a pip package). As a result, the 3D projection is not available.\n",
      "  warnings.warn(\"Unable to import Axes3D. This may be due to multiple versions of \"\n"
     ]
    }
   ],
   "source": [
    "import numpy as np\n",
    "import matplotlib.pyplot as plt\n",
    "from timeit import default_timer as timer\n"
   ]
  },
  {
   "cell_type": "code",
   "execution_count": 3,
   "id": "2eb97783-9bbd-4866-ba3f-6520a9248640",
   "metadata": {
    "tags": []
   },
   "outputs": [],
   "source": [
    "def gauss_seidel(f):\n",
    "    newf = f.copy()\n",
    "\n",
    "    for i in range(1,newf.shape[0]-1):\n",
    "        for j in range(1,newf.shape[1]-1):\n",
    "            newf[i,j] = 0.25 * (newf[i,j+1] + newf[i,j-1] +\n",
    "                                   newf[i+1,j] + newf[i-1,j])\n",
    "\n",
    "    return newf\n"
   ]
  },
  {
   "cell_type": "code",
   "execution_count": 4,
   "id": "e03f95e1-bbd6-41a1-8508-596a7297dc90",
   "metadata": {
    "tags": []
   },
   "outputs": [
    {
     "name": "stdout",
     "output_type": "stream",
     "text": [
      "0.02239966400065896 sec, grid size is: 8\n",
      "0.08080006399995909 sec, grid size is: 16\n",
      "0.3329085119994488 sec, grid size is: 32\n",
      "1.5217460470003061 sec, grid size is: 64\n",
      "6.027611122999588 sec, grid size is: 128\n",
      "26.18104578999919 sec, grid size is: 256\n",
      "113.62896971700047 sec, grid size is: 512\n"
     ]
    }
   ],
   "source": [
    "size = [8,16,32,64,128,256,512]\n",
    "duration = []\n",
    "\n",
    "for s in size:\n",
    "  x = np.random.rand(s,s)\n",
    "\n",
    "  x[[-1,0],:] = 0 # boundary conditions\n",
    "  x[:,[-1,0]] = 0\n",
    "\n",
    "  t1 = timer()\n",
    "  for i in range(1000): # number of iterations\n",
    "      x = gauss_seidel(x)\n",
    "  t2 = timer()\n",
    "  print(f'{t2-t1} sec, grid size is: {s}')\n",
    "\n",
    "  duration.append(t2-t1)\n"
   ]
  },
  {
   "cell_type": "code",
   "execution_count": 5,
   "id": "44c5bdc8-c9ca-4ee8-a349-4aa4a3390db9",
   "metadata": {
    "tags": []
   },
   "outputs": [
    {
     "data": {
      "text/plain": [
       "Text(0.5, 1.0, 'Performance evaluation for varying grid sizes')"
      ]
     },
     "execution_count": 5,
     "metadata": {},
     "output_type": "execute_result"
    },
    {
     "data": {
      "image/png": "[encoded data removed]",
      "text/plain": [
       "<Figure size 640x480 with 1 Axes>"
      ]
     },
     "metadata": {},
     "output_type": "display_data"
    }
   ],
   "source": [
    "plt.plot(size, duration, linestyle=\"-\", marker=\"o\")\n",
    "plt.xscale(\"log\")\n",
    "plt.yscale(\"log\")\n",
    "plt.xlabel(\"Grid size\")\n",
    "plt.ylabel(\"Time [sec]\")\n",
    "plt.title(\"Performance evaluation for varying grid sizes\")\n"
   ]
  },
  {
   "cell_type": "markdown",
   "id": "b0bb7040-2933-4864-8ea3-07584cced391",
   "metadata": {
    "tags": []
   },
   "source": [
    "## Task 2.2"
   ]
  },
  {
   "cell_type": "markdown",
   "id": "1c414b80-5a72-437a-bbb0-ff670010b691",
   "metadata": {},
   "source": [
    "Line profiling is used in order to identify the part of the code that needs to be optimized.\n"
   ]
  },
  {
   "cell_type": "code",
   "execution_count": 24,
   "id": "3516f06b-f22d-4f69-bce8-fa3517b37eef",
   "metadata": {
    "tags": []
   },
   "outputs": [
    {
     "name": "stdout",
     "output_type": "stream",
     "text": [
      "Wrote profile results to 2d_poisson.py.lprof\n",
      "Inspect results with:\n",
      "python -m line_profiler -rmt \"2d_poisson.py.lprof\"\n"
     ]
    }
   ],
   "source": [
    "%run -i -m kernprof -l 2d_poisson.py\n"
   ]
  },
  {
   "cell_type": "code",
   "execution_count": 25,
   "id": "e45a0a24-1a57-40ff-a18f-f1a6be4d6fe1",
   "metadata": {
    "tags": []
   },
   "outputs": [
    {
     "name": "stdout",
     "output_type": "stream",
     "text": [
      "Timer unit: 1e-06 s\n",
      "\n",
      "Total time: 5.58383 s\n",
      "File: 2d_poisson.py\n",
      "Function: poisson_2d at line 5\n",
      "\n",
      "Line #      Hits         Time  Per Hit   % Time  Line Contents\n",
      "==============================================================\n",
      "     5                                           @profile\n",
      "     6                                           def poisson_2d():\n",
      "     7         1          2.0      2.0      0.0      size = 64\n",
      "     8         1        115.0    115.0      0.0      x = np.random.rand(size,size)\n",
      "     9                                               \n",
      "    10         1         50.0     50.0      0.0      x[[-1,0],:] = 0 # boundary conditions\n",
      "    11         1         12.0     12.0      0.0      x[:,[-1,0]] = 0\n",
      "    12                                           \n",
      "    13      1001        204.0      0.2      0.0      for i in range(1000): # number of iterations\n",
      "    14      1000    5583442.0   5583.4    100.0          x = gauss_seidel(x)\n",
      "\n",
      "Total time: 3.45836 s\n",
      "File: 2d_poisson.py\n",
      "Function: gauss_seidel at line 16\n",
      "\n",
      "Line #      Hits         Time  Per Hit   % Time  Line Contents\n",
      "==============================================================\n",
      "    16                                           @profile\n",
      "    17                                           def gauss_seidel(f):\n",
      "    18      1000       3142.0      3.1      0.1      newf = f.copy()\n",
      "    19                                           \n",
      "    20     63000       4551.0      0.1      0.1      for i in range(1,newf.shape[0]-1):\n",
      "    21   3906000     288038.0      0.1      8.3          for j in range(1,newf.shape[1]-1):\n",
      "    22  11532000    2112325.0      0.2     61.1              newf[i,j] = 0.25 * (newf[i,j+1] + newf[i,j-1] +\n",
      "    23   7688000    1050240.0      0.1     30.4                                     newf[i+1,j] + newf[i-1,j])\n",
      "    24                                           \n",
      "    25      1000         67.0      0.1      0.0      return newf\n",
      "\n"
     ]
    }
   ],
   "source": [
    "%run -i -m line_profiler 2d_poisson.py.lprof\n"
   ]
  },
  {
   "cell_type": "markdown",
   "id": "5d783043-891a-4776-b313-a1ad3f6d6966",
   "metadata": {},
   "source": [
    "The most time-consuming part of the code is the function gauss_seidel and specifically the calculation of the new values of **newf** inside the double for-loop.\n"
   ]
  },
  {
   "cell_type": "markdown",
   "id": "ee8c2537-39c4-4804-b861-349f1b47d883",
   "metadata": {},
   "source": [
    "# Task 2.3"
   ]
  },
  {
   "cell_type": "markdown",
   "id": "bb1bf30c-04be-497d-ae5d-f5723c00a6da",
   "metadata": {},
   "source": [
    "As it is seen in cythonfn_poisson.html all the lines of the function are yellow, which means that they call the Python virtual machine. Therefore, Cython is necessary in order to improve the performance of the code.\n"
   ]
  },
  {
   "cell_type": "markdown",
   "id": "f11dad5a-6c02-4aad-a9d7-7f4d5d0be94d",
   "metadata": {
    "tags": []
   },
   "source": [
    "# Task 2.4"
   ]
  },
  {
   "cell_type": "code",
   "execution_count": 6,
   "id": "3f92e1b2-a64d-429f-94a8-6b84bca420c7",
   "metadata": {},
   "outputs": [
    {
     "ename": "ModuleNotFoundError",
     "evalue": "No module named 'cythonfn_poisson2'",
     "output_type": "error",
     "traceback": [
      "\u001b[0;31m---------------------------------------------------------------------------\u001b[0m",
      "\u001b[0;31mModuleNotFoundError\u001b[0m                       Traceback (most recent call last)",
      "Cell \u001b[0;32mIn[6], line 1\u001b[0m\n\u001b[0;32m----> 1\u001b[0m \u001b[38;5;28;01mimport\u001b[39;00m \u001b[38;5;21;01mcythonfn_poisson2\u001b[39;00m\n",
      "\u001b[0;31mModuleNotFoundError\u001b[0m: No module named 'cythonfn_poisson2'"
     ]
    }
   ],
   "source": [
    "import cythonfn_poisson2\n"
   ]
  },
  {
   "cell_type": "code",
   "execution_count": 12,
   "id": "0f1704a4-b6b5-40b8-b0da-08a9a3031614",
   "metadata": {
    "tags": []
   },
   "outputs": [
    {
     "name": "stdout",
     "output_type": "stream",
     "text": [
      "0.00452737498562783 sec, grid size is: 8\n",
      "0.0049153750005643815 sec, grid size is: 16\n",
      "0.008910832984838635 sec, grid size is: 32\n",
      "0.024275083997054026 sec, grid size is: 64\n",
      "0.11431729199830443 sec, grid size is: 128\n",
      "0.4782045420142822 sec, grid size is: 256\n",
      "2.0507552080089226 sec, grid size is: 512\n"
     ]
    }
   ],
   "source": [
    "size = [8,16,32,64,128,256,512]\n",
    "duration = []\n",
    "\n",
    "for s in size:\n",
    "  x = np.random.rand(s,s)\n",
    "\n",
    "  x[[-1,0],:] = 0 # boundary conditions\n",
    "  x[:,[-1,0]] = 0\n",
    "\n",
    "  t1 = timer()\n",
    "  for i in range(1000): # number of iterations\n",
    "      x = cythonfn_poisson2.gauss_seidel(x,s)\n",
    "  t2 = timer()\n",
    "  print(f'{t2-t1} sec, grid size is: {s}')\n",
    "\n",
    "  duration.append(t2-t1)\n"
   ]
  },
  {
   "cell_type": "code",
   "execution_count": 11,
   "id": "11f20f92-e795-4cc0-a561-524b2e0d08ca",
   "metadata": {
    "tags": []
   },
   "outputs": [
    {
     "data": {
      "text/plain": [
       "Text(0.5, 1.0, 'Performance evaluation for varying grid sizes')"
      ]
     },
     "execution_count": 11,
     "metadata": {},
     "output_type": "execute_result"
    },
    {
     "data": {
      "image/png": "[encoded data removed]",
      "text/plain": [
       "<Figure size 640x480 with 1 Axes>"
      ]
     },
     "metadata": {},
     "output_type": "display_data"
    }
   ],
   "source": [
    "plt.plot(size, duration, linestyle=\"-\", marker=\"o\")\n",
    "plt.xscale(\"log\")\n",
    "plt.xlabel(\"Grid size\")\n",
    "plt.ylabel(\"Time [sec]\")\n",
    "plt.title(\"Performance evaluation for varying grid sizes\")\n"
   ]
  },
  {
   "cell_type": "markdown",
   "id": "1f0e20d9-61b7-4279-8425-a3cdf19c93f4",
   "metadata": {},
   "source": [
    "Comparing to Task 2.1, there is an impressive speed-up using Cython annotations. For example, the computational time is reduced from 101 to 2 sec for a grid of dimension 512x512.\n"
   ]
  }
 ],
 "metadata": {
  "kernelspec": {
   "display_name": "Python 3 (ipykernel)",
   "language": "python",
   "name": "python3"
  },
  "language_info": {
   "codemirror_mode": {
    "name": "ipython",
    "version": 3
   },
   "file_extension": ".py",
   "mimetype": "text/x-python",
   "name": "python",
   "nbconvert_exporter": "python",
   "pygments_lexer": "ipython3",
   "version": "3.10.12"
  }
 },
 "nbformat": 4,
 "nbformat_minor": 5
}
