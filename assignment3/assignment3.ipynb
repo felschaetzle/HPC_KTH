{
 "cells": [
  {
   "cell_type": "markdown",
   "metadata": {},
   "source": [
    "# Assignment 2 DD2358\n",
    " Group 17: Felix Schätzle, Georgios Mitsos, Thorben Fetz\n",
    "\n",
    "## Exerice 1: Cythonize the STREAM Benchmark\n",
    "\n",
    "## Task 1.1\n",
    "Cython version of the STREAM benchmark with ctypes"
   ]
  },
  {
   "cell_type": "code",
   "execution_count": 2,
   "metadata": {},
   "outputs": [],
   "source": [
    "from timeit import default_timer as timer\n",
    "import numpy as np\n",
    "import array\n",
    "import matplotlib.pyplot as plt\n",
    "from functools import wraps\n"
   ]
  },
  {
   "cell_type": "code",
   "execution_count": 3,
   "metadata": {},
   "outputs": [],
   "source": [
    "STREAM_ARRAY_SIZE = 30_000_000\n",
    "\n",
    "# LISTS\n",
    "a = [1.0]*STREAM_ARRAY_SIZE\n",
    "b = [2.0]*STREAM_ARRAY_SIZE\n",
    "c = [0.0]*STREAM_ARRAY_SIZE\n",
    "\n",
    "# ARRAYS\n",
    "a_2 = array.array('f',[1.0]*STREAM_ARRAY_SIZE)\n",
    "b_2 = array.array('f',[2.0]*STREAM_ARRAY_SIZE)\n",
    "c_2 = array.array('f',[0.0]*STREAM_ARRAY_SIZE)\n",
    "\n",
    "scalar = 2.0"
   ]
  },
  {
   "cell_type": "code",
   "execution_count": null,
   "metadata": {},
   "outputs": [],
   "source": []
  }
 ],
 "metadata": {
  "kernelspec": {
   "display_name": ".venv",
   "language": "python",
   "name": "python3"
  },
  "language_info": {
   "codemirror_mode": {
    "name": "ipython",
    "version": 3
   },
   "file_extension": ".py",
   "mimetype": "text/x-python",
   "name": "python",
   "nbconvert_exporter": "python",
   "pygments_lexer": "ipython3",
   "version": "3.11.7"
  }
 },
 "nbformat": 4,
 "nbformat_minor": 2
}
