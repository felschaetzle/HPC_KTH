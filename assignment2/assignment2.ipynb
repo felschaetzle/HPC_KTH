{
 "cells": [
  {
   "cell_type": "markdown",
   "id": "a62b8735-8011-481a-b0e8-0e017ab367de",
   "metadata": {},
   "source": [
    "# Assignment 2 DD2358\n",
    " Group 17: Felix Schätzle, Georgios Mitsos, Thorben Fetz\n",
    "\n",
    "## Exerice 1: STREAM Benchmark\n",
    "\n",
    "## Task 1.1: "
   ]
  },
  {
   "cell_type": "code",
   "execution_count": 2,
   "id": "7e1d21fb-9793-4747-bce0-e212dd3cb117",
   "metadata": {
    "tags": []
   },
   "outputs": [],
   "source": [
    "from timeit import default_timer as timer\n",
    "import numpy as np\n",
    "import array\n",
    "import matplotlib.pyplot as plt\n",
    "from functools import wraps\n"
   ]
  },
  {
   "cell_type": "code",
   "execution_count": 26,
   "id": "e54a337d-d3eb-4997-9d19-b3f4b1d631ca",
   "metadata": {
    "tags": []
   },
   "outputs": [],
   "source": [
    "STREAM_ARRAY_SIZE = 30_000_000\n",
    "\n",
    "# LISTS\n",
    "a = [1.0]*STREAM_ARRAY_SIZE\n",
    "b = [2.0]*STREAM_ARRAY_SIZE\n",
    "c = [0.0]*STREAM_ARRAY_SIZE\n",
    "\n",
    "# ARRAYS\n",
    "a_2 = array.array('f',[1.0]*STREAM_ARRAY_SIZE)\n",
    "b_2 = array.array('f',[2.0]*STREAM_ARRAY_SIZE)\n",
    "c_2 = array.array('f',[0.0]*STREAM_ARRAY_SIZE)\n",
    "\n",
    "scalar = 2.0\n"
   ]
  },
  {
   "cell_type": "code",
   "execution_count": 27,
   "id": "ab87f71d-5542-43d8-bc61-2904caa0b939",
   "metadata": {
    "tags": []
   },
   "outputs": [],
   "source": [
    "times = [0.0]*8\n",
    "\n",
    "# LISTS\n",
    "# copy\n",
    "times[0] = timer()\n",
    "for j in range(STREAM_ARRAY_SIZE):\n",
    "    c[j] = a[j]\n",
    "times[0] = timer() - times[0]\n",
    "\n",
    "# scale\n",
    "times[1] = timer()\n",
    "for j in range(STREAM_ARRAY_SIZE):\n",
    "    b[j] = scalar*c[j]\n",
    "times[1] = timer() - times[1]\n",
    "     \n",
    "#sum\n",
    "times[2] = timer()\n",
    "for j in range(STREAM_ARRAY_SIZE):\n",
    "    c[j] = a[j]+b[j]\n",
    "times[2] = timer() - times[2]\n",
    "\n",
    "# triad\n",
    "times[3] = timer()\n",
    "for j in range(STREAM_ARRAY_SIZE):\n",
    "    a[j] = b[j]+scalar*c[j]\n",
    "times[3] = timer() - times[3]\n",
    "\n",
    "# ARRAYS\n",
    "# copy\n",
    "times[4] = timer()\n",
    "for j in range(STREAM_ARRAY_SIZE):\n",
    "    c_2[j] = a_2[j]\n",
    "times[4] = timer() - times[4]\n",
    "\n",
    "# scale\n",
    "times[5] = timer()\n",
    "for j in range(STREAM_ARRAY_SIZE):\n",
    "    b_2[j] = scalar*c_2[j]\n",
    "times[5] = timer() - times[5]\n",
    "     \n",
    "#sum\n",
    "times[6] = timer()\n",
    "for j in range(STREAM_ARRAY_SIZE):\n",
    "    c_2[j] = a_2[j]+b_2[j]\n",
    "times[6] = timer() - times[6]\n",
    "\n",
    "# triad\n",
    "times[7] = timer()\n",
    "for j in range(STREAM_ARRAY_SIZE):\n",
    "    a_2[j] = b_2[j]+scalar*c_2[j]\n",
    "times[7] = timer() - times[7]\n"
   ]
  },
  {
   "cell_type": "code",
   "execution_count": 28,
   "id": "7d7372d9-c061-4fec-91e8-8be888daad01",
   "metadata": {
    "tags": []
   },
   "outputs": [],
   "source": [
    "# elements of the lists are double precision floats so they occupy 8 bytes\n",
    "nob = 8 # number of bytes\n",
    "\n",
    "data_kernel = [0.0]*8\n",
    "\n",
    "# LISTS\n",
    "data_kernel[0] = 2 * nob * STREAM_ARRAY_SIZE / 1e6\n",
    "data_kernel[1] = 2 * nob * STREAM_ARRAY_SIZE / 1e6\n",
    "data_kernel[2] = 3 * nob * STREAM_ARRAY_SIZE / 1e6\n",
    "data_kernel[3] = 3 * nob * STREAM_ARRAY_SIZE / 1e6\n",
    "\n",
    "# ARRAYS\n",
    "data_kernel[4] = 2 * nob * STREAM_ARRAY_SIZE / 1e6\n",
    "data_kernel[5] = 2 * nob * STREAM_ARRAY_SIZE / 1e6\n",
    "data_kernel[6] = 3 * nob * STREAM_ARRAY_SIZE / 1e6\n",
    "data_kernel[7] = 3 * nob * STREAM_ARRAY_SIZE / 1e6\n"
   ]
  },
  {
   "cell_type": "markdown",
   "id": "c5811e32-2f4a-4398-a185-f8e2fc8838b0",
   "metadata": {},
   "source": [
    "Choosing large values for STREAM_ARRAY_SIZE minimizes the effect of memory latency and other sources of computational overhead, as well as the effect of cache memory. In this way, the calculation of bandwidth becomes more accurate.\n",
    "\n",
    "Note: With STREAM_ARRAY_SIZE = 30_000_000 and double-precision floats, each Python array is 240 MB. This is much larger than the cache memory of the laptop (2022 MacBook Air M2 16 GB RAM).\n"
   ]
  },
  {
   "cell_type": "code",
   "execution_count": 29,
   "id": "9c5f5014-4f9c-4f5f-b4dc-43e153ac3032",
   "metadata": {
    "tags": []
   },
   "outputs": [],
   "source": [
    "bw = [0.0]*8 # memory bandwidth, [bytes/sec]\n",
    "\n",
    "for i in range(8):\n",
    "    bw[i] = data_kernel[i]/times[i]\n",
    "    "
   ]
  },
  {
   "cell_type": "markdown",
   "id": "a3507169-b243-4cf9-87db-dcce9ec03149",
   "metadata": {},
   "source": [
    "The memory bandwidth for each kernel is presented in the table below. The units are MB/sec.\n",
    "\n",
    "| Type | Copy BW | Scale BW | Sum BW | Triad BW |\n",
    "| --- | --- | --- | --- | --- | \n",
    "| List | 498.3 | 382.2 | 508.4 | 434.2 |\n",
    "| Array | 297.0 | 263.5 | 326.9 | 298.7 |\n"
   ]
  },
  {
   "cell_type": "markdown",
   "id": "61fe5a21-71c4-466c-9c4d-a94f4b3bda20",
   "metadata": {},
   "source": [
    "## Task 1.2: "
   ]
  },
  {
   "cell_type": "code",
   "execution_count": 137,
   "id": "242de888-b203-449e-8bb0-8e9eda0fc0e8",
   "metadata": {
    "tags": []
   },
   "outputs": [],
   "source": [
    "STREAM_ARRAY_SIZE_VECTOR = [10, 100, 1000, 5000, 10_000, 50_000, 100_000, 500_000, 1_000_000, 5_000_000, 10_000_000, 50_000_000]\n",
    "# STREAM_ARRAY_SIZE_VECTOR = [10, 100, 1000, 10_000]\n",
    "\n",
    "scalar = 2.0\n",
    "\n",
    "nob = 8 # number of bytes\n",
    "\n",
    "times = [[0] * len(STREAM_ARRAY_SIZE_VECTOR) for _ in range(8)]\n",
    "data_kernel = [[0] * len(STREAM_ARRAY_SIZE_VECTOR) for _ in range(8)]\n",
    "bw = [[0] * len(STREAM_ARRAY_SIZE_VECTOR) for _ in range(8)]\n"
   ]
  },
  {
   "cell_type": "code",
   "execution_count": 138,
   "id": "fa097447-a975-4ade-91fa-05b2582f14f7",
   "metadata": {
    "tags": []
   },
   "outputs": [],
   "source": [
    "for i in range(len(STREAM_ARRAY_SIZE_VECTOR)):\n",
    "    # LISTS\n",
    "    a = [1.0]*STREAM_ARRAY_SIZE_VECTOR[i]\n",
    "    b = [2.0]*STREAM_ARRAY_SIZE_VECTOR[i]\n",
    "    c = [0.0]*STREAM_ARRAY_SIZE_VECTOR[i]\n",
    "\n",
    "    # ARRAYS\n",
    "    a_2 = array.array('f',[1.0]*STREAM_ARRAY_SIZE_VECTOR[i])\n",
    "    b_2 = array.array('f',[2.0]*STREAM_ARRAY_SIZE_VECTOR[i])\n",
    "    c_2 = array.array('f',[0.0]*STREAM_ARRAY_SIZE_VECTOR[i])\n",
    "    \n",
    "    # LISTS\n",
    "    # copy\n",
    "    times[0][i] = timer()\n",
    "    for j in range(STREAM_ARRAY_SIZE_VECTOR[i]):\n",
    "        c[j] = a[j]\n",
    "    times[0][i] = timer() - times[0][i]\n",
    "\n",
    "    # scale\n",
    "    times[1][i] = timer()\n",
    "    for j in range(STREAM_ARRAY_SIZE_VECTOR[i]):\n",
    "        b[j] = scalar*c[j]\n",
    "    times[1][i] = timer() - times[1][i]\n",
    "\n",
    "    #sum\n",
    "    times[2][i] = timer()\n",
    "    for j in range(STREAM_ARRAY_SIZE_VECTOR[i]):\n",
    "        c[j] = a[j]+b[j]\n",
    "    times[2][i] = timer() - times[2][i]\n",
    "\n",
    "    # triad\n",
    "    times[3][i] = timer()\n",
    "    for j in range(STREAM_ARRAY_SIZE_VECTOR[i]):\n",
    "        a[j] = b[j]+scalar*c[j]\n",
    "    times[3][i] = timer() - times[3][i]\n",
    "\n",
    "    # ARRAYS\n",
    "    # copy\n",
    "    times[4][i] = timer()\n",
    "    for j in range(STREAM_ARRAY_SIZE_VECTOR[i]):\n",
    "        c_2[j] = a_2[j]\n",
    "    times[4][i] = timer() - times[4][i]\n",
    "\n",
    "    # scale\n",
    "    times[5][i] = timer()\n",
    "    for j in range(STREAM_ARRAY_SIZE_VECTOR[i]):\n",
    "        b_2[j] = scalar*c_2[j]\n",
    "    times[5][i] = timer() - times[5][i]\n",
    "\n",
    "    #sum\n",
    "    times[6][i] = timer()\n",
    "    for j in range(STREAM_ARRAY_SIZE_VECTOR[i]):\n",
    "        c_2[j] = a_2[j]+b_2[j]\n",
    "    times[6][i] = timer() - times[6][i]\n",
    "\n",
    "    # triad\n",
    "    times[7][i] = timer()\n",
    "    for j in range(STREAM_ARRAY_SIZE_VECTOR[i]):\n",
    "        a_2[j] = b_2[j]+scalar*c_2[j]\n",
    "    times[7][i] = timer() - times[7][i]\n",
    "    \n",
    "    # LISTS\n",
    "    data_kernel[0][i] = 2 * nob * STREAM_ARRAY_SIZE_VECTOR[i] / 1e6\n",
    "    data_kernel[1][i] = 2 * nob * STREAM_ARRAY_SIZE_VECTOR[i] / 1e6\n",
    "    data_kernel[2][i] = 3 * nob * STREAM_ARRAY_SIZE_VECTOR[i] / 1e6\n",
    "    data_kernel[3][i] = 3 * nob * STREAM_ARRAY_SIZE_VECTOR[i] / 1e6\n",
    "\n",
    "    # ARRAYS\n",
    "    data_kernel[4][i] = 2 * nob * STREAM_ARRAY_SIZE_VECTOR[i] / 1e6\n",
    "    data_kernel[5][i] = 2 * nob * STREAM_ARRAY_SIZE_VECTOR[i] / 1e6\n",
    "    data_kernel[6][i] = 3 * nob * STREAM_ARRAY_SIZE_VECTOR[i] / 1e6\n",
    "    data_kernel[7][i] = 3 * nob * STREAM_ARRAY_SIZE_VECTOR[i] / 1e6\n",
    "    \n",
    "    for j in range(8):\n",
    "        bw[j][i] = data_kernel[j][i]/times[j][i]\n",
    "    "
   ]
  },
  {
   "cell_type": "code",
   "execution_count": 141,
   "id": "a1ece449-7dd4-4af7-af13-086c9d0dc4a2",
   "metadata": {
    "tags": []
   },
   "outputs": [
    {
     "data": {
      "image/png": "[encoded data removed]",
      "text/plain": [
       "<Figure size 640x480 with 1 Axes>"
      ]
     },
     "metadata": {},
     "output_type": "display_data"
    }
   ],
   "source": [
    "# plt.plot(STREAM_ARRAY_SIZE_VECTOR, bw[j], label=f'CPU {i}')\n",
    "plt.plot(STREAM_ARRAY_SIZE_VECTOR, bw[0], linestyle='solid', linewidth=1.5, color='black', label=f'copy (black = list, red = array)')\n",
    "plt.plot(STREAM_ARRAY_SIZE_VECTOR, bw[1], linestyle='dotted', linewidth=1.5, color='black', label=f'scale')\n",
    "plt.plot(STREAM_ARRAY_SIZE_VECTOR, bw[2], linestyle='dashed', linewidth=1.5, color='black', label=f'sum')\n",
    "plt.plot(STREAM_ARRAY_SIZE_VECTOR, bw[3], linestyle='dashdot', linewidth=1.5, color='black', label=f'triad')\n",
    "plt.plot(STREAM_ARRAY_SIZE_VECTOR, bw[4], linestyle='solid', linewidth=1.5, color='red')\n",
    "plt.plot(STREAM_ARRAY_SIZE_VECTOR, bw[5], linestyle='dotted', linewidth=1.5, color='red')\n",
    "plt.plot(STREAM_ARRAY_SIZE_VECTOR, bw[6], linestyle='dashed', linewidth=1.5, color='red')\n",
    "plt.plot(STREAM_ARRAY_SIZE_VECTOR, bw[7], linestyle='dashdot', linewidth=1.5, color='red')\n",
    "plt.xscale(\"log\")\n",
    "plt.xlabel('STREAM_ARRAY_SIZE')\n",
    "plt.ylabel('Bandwidth, [MB/sec]')\n",
    "plt.legend()\n",
    "plt.show()\n"
   ]
  },
  {
   "cell_type": "markdown",
   "id": "0eb7302f-5b8b-4ac8-9db1-f67b8aba0d66",
   "metadata": {},
   "source": [
    "The bandwidth varies significantly with the size and type of Python arrays. \n",
    "\n",
    "The bandwidth increases with array size up to 10000 elements and then remains constant (or reduces) up to 50_000_000 elements. As discussed in the previous task, larger arrays lead to more effective memory usage since the effect of overheads are reduced.\n",
    "\n",
    "Moreover, the bandwidth is larger for kernels involving lists, rather than arrays. The difference is due to the data storing of the two types of Python arrays. Lists store elements as individual objects in memory, while arrays store them as large chuncks.\n"
   ]
  },
  {
   "cell_type": "markdown",
   "id": "e010bf12-c67a-41f0-83f1-f76a1184ae1a",
   "metadata": {
    "tags": []
   },
   "source": [
    "## Exerice 2: PyTest\n",
    "\n",
    "## Task 2.1:"
   ]
  },
  {
   "cell_type": "markdown",
   "id": "d22a4df0-bc63-487b-8e26-ad9b24ad6a89",
   "metadata": {},
   "source": [
    "The pytest framework is used for the testing of the output of calc_pure_python. \n",
    "\n",
    "The function test_output was added at the end of test_JuliaSet.py. The function is presented in the next cell. \n"
   ]
  },
  {
   "cell_type": "code",
   "execution_count": 30,
   "id": "7794db67-9650-4aa4-a9fd-7181feee6be1",
   "metadata": {
    "tags": []
   },
   "outputs": [],
   "source": [
    "def test_output():\n",
    "    assert sum(calc_pure_python(1000,300)) == 33219980"
   ]
  },
  {
   "cell_type": "code",
   "execution_count": 31,
   "id": "0837ba3e-395e-44be-849d-f11be8f06bf9",
   "metadata": {},
   "outputs": [
    {
     "name": "stdout",
     "output_type": "stream",
     "text": [
      "\u001b[1m============================= test session starts ==============================\u001b[0m\n",
      "platform darwin -- Python 3.11.5, pytest-7.4.0, pluggy-1.0.0\n",
      "rootdir: /Users/georgiosmitsos/HPC_KTH/assignment2\n",
      "plugins: anyio-3.5.0\n",
      "collected 1 item\n",
      "\n",
      "test_JuliaSet.py \u001b[32m.\u001b[0m\u001b[32m                                                       [100%]\u001b[0m\n",
      "\n",
      "\u001b[32m============================== \u001b[32m\u001b[1m1 passed\u001b[0m\u001b[32m in 1.99s\u001b[0m\u001b[32m ===============================\u001b[0m\n"
     ]
    }
   ],
   "source": [
    "%run -m pytest test_JuliaSet.py\n"
   ]
  },
  {
   "cell_type": "markdown",
   "id": "4c70b6fb-b08f-49b1-a67a-e0fa5f2a5c08",
   "metadata": {
    "tags": []
   },
   "source": [
    "## Task 2.2:"
   ]
  },
  {
   "cell_type": "markdown",
   "id": "cd1850e4-c8a3-4d7b-baa0-b4ac595a4d62",
   "metadata": {},
   "source": [
    "For the present Task, test_output needs to be changed to:"
   ]
  },
  {
   "cell_type": "code",
   "execution_count": 13,
   "id": "46009f87-70c6-4565-a874-4960fbce462d",
   "metadata": {
    "tags": []
   },
   "outputs": [],
   "source": [
    "@pytest.mark.parametrize('desired_width, max_iterations, expected_output', [(1000,300,33219980),\n",
    "                                                                            (1500,500,120023366),\n",
    "                                                                            (2000,400,173085144)]) \n",
    "\n",
    "def test_output(desired_width, max_iterations, expected_output):\n",
    "    assert sum(calc_pure_python(desired_width, max_iterations)) == expected_output\n",
    "    "
   ]
  },
  {
   "cell_type": "markdown",
   "id": "9bfa51da-0038-4524-a4f8-1a8bb36eeb49",
   "metadata": {},
   "source": [
    "In this way, 3 combinations of desired_width and max_iterations are checked.\n"
   ]
  },
  {
   "cell_type": "code",
   "execution_count": 14,
   "id": "fa44eeaf-2a3e-4dcb-ade7-a93397968187",
   "metadata": {
    "tags": []
   },
   "outputs": [
    {
     "name": "stdout",
     "output_type": "stream",
     "text": [
      "\u001b[1m============================= test session starts ==============================\u001b[0m\n",
      "platform darwin -- Python 3.11.5, pytest-7.4.0, pluggy-1.0.0\n",
      "rootdir: /Users/georgiosmitsos/HPC_KTH/assignment2\n",
      "plugins: anyio-3.5.0\n",
      "collected 3 items\n",
      "\n",
      "test_JuliaSet_2.py \u001b[32m.\u001b[0m\u001b[32m.\u001b[0m\u001b[32m.\u001b[0m\u001b[32m                                                   [100%]\u001b[0m\n",
      "\n",
      "\u001b[32m============================== \u001b[32m\u001b[1m3 passed\u001b[0m\u001b[32m in 19.26s\u001b[0m\u001b[32m ==============================\u001b[0m\n"
     ]
    }
   ],
   "source": [
    "%run -m pytest test_JuliaSet_2.py\n"
   ]
  },
  {
   "cell_type": "markdown",
   "id": "8b14760b-9722-4aab-9a7c-fdd2715ce9ab",
   "metadata": {},
   "source": [
    "## Exerice 3: DGEMM Benchmark\n"
   ]
  },
  {
   "cell_type": "markdown",
   "id": "40457c12-39d3-4aa4-bf6d-1d633a549cc1",
   "metadata": {},
   "source": [
    "BLAS is used for vector, matrix-vector and matrix-matrix operations.\n"
   ]
  },
  {
   "cell_type": "markdown",
   "id": "1c7e84ff-3425-4a40-8573-c68aa62d7ab1",
   "metadata": {},
   "source": [
    "BLAS Level-1: vector-vector operations\n",
    "\n",
    "BLAS Level-2: matrix-vector operations\n",
    "\n",
    "BLAS Level-3: matrix-matrix operations\n"
   ]
  },
  {
   "cell_type": "markdown",
   "id": "6b259052-7771-46a4-bad9-698a568858ae",
   "metadata": {},
   "source": [
    "## Task 3.1:"
   ]
  },
  {
   "cell_type": "markdown",
   "id": "3a877142-4ddf-4fc6-a2cc-24db4fa6bfa7",
   "metadata": {},
   "source": [
    "Implementation of DGEMM for NumPy arrays:\n"
   ]
  },
  {
   "cell_type": "code",
   "execution_count": 2,
   "id": "d0aa1d3e-fb38-4bf6-bc2c-2d028446b36f",
   "metadata": {
    "tags": []
   },
   "outputs": [],
   "source": [
    "def dgemm_numpy(N):\n",
    "\n",
    "    np.random.seed(40)\n",
    "    A = np.random.random((N,N))\n",
    "    print(A)\n",
    "    \n",
    "    np.random.seed(41)\n",
    "    B = np.random.random((N,N))\n",
    "    \n",
    "    np.random.seed(42)\n",
    "    C = np.random.random((N,N))\n",
    "        \n",
    "    for i in range(N):\n",
    "        for j in range(N):\n",
    "            for k in range(N):\n",
    "                C[i,j] = C[i,j] + A[i,k] * B[k,j]\n",
    "                \n",
    "    return C \n",
    "            "
   ]
  },
  {
   "cell_type": "markdown",
   "id": "8ffb3105-7a54-4b10-904d-a45461217158",
   "metadata": {
    "tags": []
   },
   "source": [
    "## Task 3.2:"
   ]
  },
  {
   "cell_type": "markdown",
   "id": "b3011bf8-ed3c-4241-ae9b-a6a94ad6395b",
   "metadata": {},
   "source": [
    "The results of our DGEMM code are compared to C_test = C + np.matmul(A,B). It is tested if np.max(abs(C-C_test)) is smaller than 1e-12 for matrices A, B, C of dimension 200x200.\n"
   ]
  },
  {
   "cell_type": "code",
   "execution_count": 1,
   "id": "1bc0f9e0-8a17-4e76-8b2d-1c2c41c796af",
   "metadata": {
    "tags": []
   },
   "outputs": [
    {
     "name": "stdout",
     "output_type": "stream",
     "text": [
      "\u001b[1m============================= test session starts ==============================\u001b[0m\n",
      "platform darwin -- Python 3.11.5, pytest-7.4.0, pluggy-1.0.0\n",
      "rootdir: /Users/georgiosmitsos/HPC_KTH/assignment2\n",
      "plugins: anyio-3.5.0\n",
      "collected 1 item\n",
      "\n",
      "test_my_dgemm.py \u001b[32m.\u001b[0m\u001b[32m                                                       [100%]\u001b[0m\n",
      "\n",
      "\u001b[32m============================== \u001b[32m\u001b[1m1 passed\u001b[0m\u001b[32m in 2.12s\u001b[0m\u001b[32m ===============================\u001b[0m\n"
     ]
    }
   ],
   "source": [
    "%run -m pytest test_my_dgemm.py\n"
   ]
  },
  {
   "cell_type": "markdown",
   "id": "1764ca63-9afe-4026-ae5f-4ab1bb2d8272",
   "metadata": {
    "tags": []
   },
   "source": [
    "## Task 3.3:"
   ]
  },
  {
   "cell_type": "markdown",
   "id": "3bc4a8f7-9818-4693-8ec9-2db2129c850a",
   "metadata": {},
   "source": [
    "The following code (dgemm_alternatives.py) is used to create random matrices (Python lists or NumPy arrays) of different dimensions and measure the execution time of DGEMM as a function of these parameters. \n"
   ]
  },
  {
   "cell_type": "code",
   "execution_count": 6,
   "id": "189f48c3-9236-4765-ba75-26a6bc0f8968",
   "metadata": {
    "tags": []
   },
   "outputs": [],
   "source": [
    "global t_diff, t_tot\n",
    "t_diff = []\n",
    "t_tot = []\n",
    "\n",
    "def timefn(fn): # time decorator\n",
    "    @wraps(fn)\n",
    "    def measure_time(*args, **kwargs):\n",
    "        t1 =  timer()\n",
    "        result = fn(*args, **kwargs)\n",
    "        t2 = timer()\n",
    "        t_diff.append(t2-t1)\n",
    "        return result\n",
    "    return measure_time\n",
    "\n",
    "\n",
    "def dgemm_alt(N):\n",
    "    np.random.seed(40)\n",
    "    A = np.random.rand(N,N)\n",
    "    A_list = A.tolist()\n",
    "    \n",
    "    np.random.seed(41)\n",
    "    B = np.random.rand(N,N)\n",
    "    B_list = B.tolist()\n",
    "    \n",
    "    np.random.seed(42)\n",
    "    C = np.random.rand(N,N)\n",
    "    C_list = C.tolist()\n",
    "    \n",
    "    C = dgemm_numpy(N,A,B,C)\n",
    "    C_list = dgemm_list(N,A_list,B_list,C_list)\n",
    "    \n",
    "    return C, C_list\n",
    "\n",
    "\n",
    "@timefn\n",
    "def dgemm_numpy(N,A,B,C):\n",
    "    for i in range(N):\n",
    "        for j in range(N):\n",
    "            for k in range(N):\n",
    "                C[i,j] = C[i,j] + A[i,k] * B[k,j]            \n",
    "    return C \n",
    "    \n",
    "    \n",
    "@timefn\n",
    "def dgemm_list(N,A_list,B_list,C_list):\n",
    "    for i in range(N):\n",
    "        for j in range(N):\n",
    "            for k in range(N):\n",
    "                C_list[i][j] = C_list[i][j] + A_list[i][k] * B_list[k][j]            \n",
    "    return C_list\n",
    "\n",
    "if __name__ == \"__main__\":\n",
    "    n = 5 # run n times to calculate average and standard deviation\n",
    "    for i in [10,50,80,120,160,200]:\n",
    "        for ii in range(n):\n",
    "            dgemm_alt(i)\n",
    "        # t_tot has 6 nested lists, each one with 4 elements: avg time and std for NumPy DGEMM, avg time and std for List DGEMM \n",
    "        t_tot.append([np.mean(t_diff[0::2]),np.std(t_diff[0::2]),np.mean(t_diff[1::2]),np.std(t_diff[1::2])])\n",
    "        t_diff = [] # reset for different matrix sizes \n"
   ]
  },
  {
   "cell_type": "markdown",
   "id": "ee09fc68-ac33-429d-ac78-ca23dd3eac9d",
   "metadata": {},
   "source": [
    "The execution time for DGEMM as a function of matrix dimensions and Python array is presented below (as average time $$). The units are sec.\n",
    "\n",
    "It can be seen that the operations are about 6 times faster using list than using NumPy arrays. \n",
    "\n",
    "The computational times are longer for larger matrices (of dimension NxN) and seem to be proportional to N^a, where a is a number between 2 and 3. \n",
    "\n",
    "| Number of elements | Execution time (NumPy arrays) | Execution time (Lists) |\n",
    "| --- | --- | --- |\n",
    "| 10 | 3.9e-4 $\\pm$ 6.4e-6 | 7e-5 $\\pm$ 1.3e-6 | \n",
    "| 50 | 3.2e-2 $\\pm$ 2.9e-3 | 5e-3 $\\pm$ 1.8e-4 |\n",
    "| 80 | 0.13 $\\pm$ 1.2e-3 | 2e-2 $\\pm$ 1.1e-4 |\n",
    "| 120 | 0.42 $\\pm$ 4.4e-3 | 6.9e-2 $\\pm$ 3.4e-4 |\n",
    "| 160 | 1.01 $\\pm$ 1.2e-2 | 0.16 $\\pm$ 7.7e-4 |\n",
    "| 200 | 2.12 $\\pm$ 8.8e-2 | 0.36 $\\pm$ 3.4e-2 |\n",
    "\n",
    "Python arrays are not used for the present Task since they are not suitable for multi-dimensional arrays.\n"
   ]
  },
  {
   "cell_type": "markdown",
   "id": "48d30dd2-da1f-4bed-9072-5b62dd3a1dc1",
   "metadata": {
    "tags": []
   },
   "source": [
    "## Task 3.4:"
   ]
  },
  {
   "cell_type": "markdown",
   "id": "2c913372-d92d-46e9-9893-e99ab0c7dcc6",
   "metadata": {},
   "source": [
    "DGEMM has been implemented as 3 nested for-loops of dimension N, therefore a different value is assigned to an element of matrix C N^3 times. There are also 2 FLOPS per iteration, a multiplication and an addition. Therefore, 2*N^3 FLOPS are carried out in DGEMM. FLOPS/sec are calculated by dividing this value with the execution time. \n",
    "\n",
    "| Number of elements | FLOPS | FLOPS/sec (NumPy arrays) | FLOPS/sec (Lists) |\n",
    "| --- | --- | --- | --- |\n",
    "| 10 | 2000 | 5.1e6 | 28.6e6 | \n",
    "| 50 | 250_000 | 7.8e6 | 50e6 |\n",
    "| 80 | 1_024_000 | 7.9e6 | 51.2e6 |\n",
    "| 120 | 3_456_000 | 8.2e6 | 50.1e6 |\n",
    "| 160 | 8_192_000 | 8.1e6 | 51.2e6 |\n",
    "| 200 | 16_000_000 | 7.5e6 | 44.4e6 |\n",
    "\n",
    "The clock frequency of the laptop is 3.49 GHz, so the theoretical peak value is 3.49e9 FLOPS/sec. So, only 0.2% of the theoretical maximum is achieved with NumPy arrays and 1.4% with lists. This can be due to: 1) memory access bottlenecks, 2) algorithm compatibility with hardware and 3) performance restrictions imposed by the laptop (e.g. overheating).\n"
   ]
  },
  {
   "cell_type": "markdown",
   "id": "f6e44b6d-1515-4ba8-b118-1a692618fad3",
   "metadata": {
    "tags": []
   },
   "source": [
    "## Task 3.5:"
   ]
  },
  {
   "cell_type": "markdown",
   "id": "e8054259-8f8e-4f94-a482-9f24a9266f14",
   "metadata": {},
   "source": [
    "matmul is used alternatively for DGEMM and is timed.\n"
   ]
  },
  {
   "cell_type": "code",
   "execution_count": 26,
   "id": "819d0cd3-f28e-4f7c-a7a2-31f4d9027cd0",
   "metadata": {
    "tags": []
   },
   "outputs": [
    {
     "name": "stdout",
     "output_type": "stream",
     "text": [
      "The execution times for matrix dimensions [10, 50, 80, 120, 160, 200] are [3.616604954004288e-05, 0.00015733297914266586, 0.014533875044435263, 0.004591292003169656, 0.012969332979992032, 0.012681582942605019]\n"
     ]
    }
   ],
   "source": [
    "global t_diff\n",
    "t_diff = []\n",
    "\n",
    "def timefn(fn):\n",
    "    @wraps(fn)\n",
    "    def measure_time(*args, **kwargs):\n",
    "        t1 =  timer()\n",
    "        result = fn(*args, **kwargs)\n",
    "        t2 = timer()\n",
    "        t_diff.append(t2-t1)\n",
    "        return result\n",
    "    return measure_time\n",
    "\n",
    "def dgemm_alt(N):\n",
    "    np.random.seed(40)\n",
    "    A = np.random.rand(N,N)\n",
    "    \n",
    "    np.random.seed(41)\n",
    "    B = np.random.rand(N,N)\n",
    "    \n",
    "    np.random.seed(42)\n",
    "    C = np.random.rand(N,N)\n",
    "    \n",
    "    C = dgemm_matmul(N,A,B,C)\n",
    "    \n",
    "    return C\n",
    "\n",
    "@timefn\n",
    "def dgemm_matmul(N,A,B,C):\n",
    "    C = C + np.matmul(A,B)            \n",
    "    return C \n",
    "    \n",
    "\n",
    "if __name__ == \"__main__\":\n",
    "    for i in [10,50,80,120,160,200]:\n",
    "        dgemm_alt(i)\n",
    "    print(f'The execution times for matrix dimensions {[10,50,80,120,160,200]} are {t_diff}')\n",
    "        "
   ]
  },
  {
   "cell_type": "markdown",
   "id": "e099b285-9f31-4d2b-b49e-c2f02db384a8",
   "metadata": {},
   "source": [
    "Comparing the results of matmul, it is obvious that the calculations are more than one order of magnitude faster than the previous ones. This is due to the fact that matmul uses the BLAS library, which includes optimized routines for operations including matrices and vectors.\n"
   ]
  },
  {
   "cell_type": "markdown",
   "id": "3c6a0d78-c85b-45f4-8c8f-fc34c18289a3",
   "metadata": {
    "tags": []
   },
   "source": [
    "## Exercise 4: Python Debugger\n",
    "\n",
    "### Task 4.1 Reflection\n",
    "A debugger is useful to inspect a program for testing purposes without having to rely on ``print()`` functions. It allows the developer to view relevant sections of source code, pause and resume execution at will, and inspect variable values. \n",
    "\n",
    "Python has some advantages for debugging, for instance it's possible to add breakpoints at runtime due to the line-by-line execution by JIT. However, the high level of abstraction of the language makes it more difficult to understand the underlying machine code, which is much more accessible in a language like C. ``pdb`` makes an effort to offer similar functionality as ``gdb``, while adapting to the limitations and opportunities offered by Python. "
   ]
  },
  {
   "cell_type": "markdown",
   "id": "f933a183",
   "metadata": {},
   "source": [
    "## Bonus Exercise: Optimizing Conway's Game of Life\n",
    "### Task B.1 Linting and documentation\n",
    "The code in [conway.py](conway.py) is already properly formatted, so neither ``black`` nor ``pylint`` find any issues. However, the comments could be more expressive and standardized docstrings. \n",
    "\n",
    "### Task B.2 Execution time\n",
    "Shown below is the execution time of the ``update`` function, for different grid sizes and 10 iterations each. \n",
    "![Conway standard](conway_standard.png)"
   ]
  },
  {
   "cell_type": "code",
   "execution_count": null,
   "id": "19885920-a569-4054-8aaa-2d8149e09024",
   "metadata": {},
   "outputs": [],
   "source": []
  },
  {
   "cell_type": "markdown",
   "id": "cbff2ab7",
   "metadata": {},
   "source": [
    "## Bonus"
   ]
  },
  {
   "cell_type": "markdown",
   "id": "60d0be50",
   "metadata": {},
   "source": [
    "### B3\n"
   ]
  },
  {
   "cell_type": "markdown",
   "id": "dc76760f",
   "metadata": {},
   "source": [
    "#### Profiling the performance of the script using: perf stat -e cycles,instructions,cache-references,cache-misses,branches,branch-misses,task-clock,faults,minor-faults,cs,migrations python conway.py"
   ]
  },
  {
   "cell_type": "raw",
   "id": "b01fb712",
   "metadata": {},
   "source": [
    " Performance counter stats for 'python conway.py':\n",
    "\n",
    "     7’689’159’772      cpu_core/cycles/                 #    2.887 GHz                         (92.90%)\n",
    "     5’838’824’750      cpu_atom/cycles/                 #    2.192 GHz                         (44.77%)\n",
    "    18’467’581’915      cpu_core/instructions/           #    2.40  insn per cycle              (92.90%)\n",
    "    11’728’205’244      cpu_atom/instructions/           #    1.53  insn per cycle              (44.77%)\n",
    "        33’516’396      cpu_core/cache-references/       #   12.582 M/sec                       (92.90%)\n",
    "         2’094’149      cpu_atom/cache-references/       #  786.163 K/sec                       (44.77%)\n",
    "        10’203’451      cpu_core/cache-misses/           #   30.44% of all cache refs           (92.90%)\n",
    "           802’923      cpu_atom/cache-misses/           #    2.40% of all cache refs           (44.77%)\n",
    "     3’549’886’817      cpu_core/branches/               #    1.333 G/sec                       (92.90%)\n",
    "     1’941’662’995      cpu_atom/branches/               #  728.918 M/sec                       (44.77%)\n",
    "        13’581’072      cpu_core/branch-misses/          #    0.38% of all branches             (92.90%)\n",
    "           218’523      cpu_atom/branch-misses/          #    0.01% of all branches             (44.77%)\n",
    "          2’663.76 msec task-clock                       #    0.464 CPUs utilized             \n",
    "            19’864      faults                           #    7.457 K/sec                     \n",
    "            19’864      minor-faults                     #    7.457 K/sec                     \n",
    "             1’022      cs                               #  383.668 /sec                      \n",
    "                67      migrations                       #   25.152 /sec                      \n",
    "\n",
    "       5.744498600 seconds time elapsed\n",
    "\n",
    "       1.256051000 seconds user\n",
    "       1.412556000 seconds sys\n"
   ]
  },
  {
   "cell_type": "markdown",
   "id": "5dc62ef1",
   "metadata": {
    "tags": [
     "parameters"
    ]
   },
   "source": [
    "#### Line profiling usning: python -m kernprof -l conway.py\n"
   ]
  },
  {
   "cell_type": "raw",
   "id": "1bb52481",
   "metadata": {},
   "source": [
    "\n",
    "Timer unit: 1e-06 s\n",
    "\n",
    "Total time: 1.78323 s\n",
    "File: conway.py\n",
    "Function: update_standard at line 84\n",
    "\n",
    "Line #      Hits         Time  Per Hit   % Time  Line Contents\n",
    "==============================================================\n",
    "    84                                           @profile\n",
    "    85                                           def update_standard(grid, N):\n",
    "    86                                               \"\"\"update grid without visualizing it\"\"\"\n",
    "    87        60        108.0      1.8      0.0      newGrid = grid.copy()\n",
    "    88      4540        732.0      0.2      0.0      for i in range(N):\n",
    "    89    434560      70123.0      0.2      3.9          for j in range(N):\n",
    "    90                                                       # compute 8-neghbor sum\n",
    "    91   3440640     719823.0      0.2     40.4              total = int((grid[i, (j-1)%N] + grid[i, (j+1)%N] + \n",
    "    92    860160     218102.0      0.3     12.2                           grid[(i-1)%N, j] + grid[(i+1)%N, j] + \n",
    "    93    860160     243461.0      0.3     13.7                           grid[(i-1)%N, (j-1)%N] + grid[(i-1)%N, (j+1)%N] + \n",
    "    94   1290240     304305.0      0.2     17.1                           grid[(i+1)%N, (j-1)%N] + grid[(i+1)%N, (j+1)%N])/255)\n",
    "    95                                                       # apply Conway's rules\n",
    "    96    430080     114956.0      0.3      6.4              if grid[i, j]  == ON:\n",
    "    97     70788      16424.0      0.2      0.9                  if (total < 2) or (total > 3):\n",
    "    98     31723       8929.0      0.3      0.5                      newGrid[i, j] = OFF\n",
    "    99                                                       else:\n",
    "   100    359292      77544.0      0.2      4.3                  if total == 3:\n",
    "   101     30419       8541.0      0.3      0.5                      newGrid[i, j] = ON\n",
    "   102                                               # update data\n",
    "   103        60        168.0      2.8      0.0      grid[:] = newGrid[:]\n",
    "   104        60         10.0      0.2      0.0      return newGrid\n",
    "   \"\"\""
   ]
  }
 ],
 "metadata": {
  "kernelspec": {
   "display_name": "Python 3 (ipykernel)",
   "language": "python",
   "name": "python3"
  },
  "language_info": {
   "codemirror_mode": {
    "name": "ipython",
    "version": 3
   },
   "file_extension": ".py",
   "mimetype": "text/x-python",
   "name": "python",
   "nbconvert_exporter": "python",
   "pygments_lexer": "ipython3",
   "version": "3.11.5"
  }
 },
 "nbformat": 4,
 "nbformat_minor": 5
}
